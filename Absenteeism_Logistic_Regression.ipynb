{
  "nbformat": 4,
  "nbformat_minor": 0,
  "metadata": {
    "kernelspec": {
      "display_name": "Python 3",
      "language": "python",
      "name": "python3"
    },
    "language_info": {
      "codemirror_mode": {
        "name": "ipython",
        "version": 3
      },
      "file_extension": ".py",
      "mimetype": "text/x-python",
      "name": "python",
      "nbconvert_exporter": "python",
      "pygments_lexer": "ipython3",
      "version": "3.6.4"
    },
    "colab": {
      "name": "Absenteeism Logistic Regression.ipynb",
      "provenance": [],
      "machine_shape": "hm",
      "include_colab_link": true
    },
    "accelerator": "GPU"
  },
  "cells": [
    {
      "cell_type": "markdown",
      "metadata": {
        "id": "view-in-github",
        "colab_type": "text"
      },
      "source": [
        "<a href=\"https://colab.research.google.com/github/seansothey/DS_Bootcamp/blob/master/Absenteeism_Logistic_Regression.ipynb\" target=\"_parent\"><img src=\"https://colab.research.google.com/assets/colab-badge.svg\" alt=\"Open In Colab\"/></a>"
      ]
    },
    {
      "cell_type": "markdown",
      "metadata": {
        "id": "qEtgRiy5lFd8",
        "colab_type": "text"
      },
      "source": [
        "# Creating a logistic regression to predict absenteeism"
      ]
    },
    {
      "cell_type": "markdown",
      "metadata": {
        "id": "3HmZuxH0lFd-",
        "colab_type": "text"
      },
      "source": [
        "## Import the relevant libraries"
      ]
    },
    {
      "cell_type": "code",
      "metadata": {
        "id": "w0ce4ElplFeB",
        "colab_type": "code",
        "colab": {}
      },
      "source": [
        "import pandas as pd\n",
        "import numpy as np"
      ],
      "execution_count": 3,
      "outputs": []
    },
    {
      "cell_type": "markdown",
      "metadata": {
        "id": "7TI5N9zZlFeI",
        "colab_type": "text"
      },
      "source": [
        "## Load the data"
      ]
    },
    {
      "cell_type": "code",
      "metadata": {
        "id": "Iu1FJpCXlFeJ",
        "colab_type": "code",
        "colab": {}
      },
      "source": [
        "data_preprocessed = pd.read_csv('Absenteeism_preprocessed.csv')"
      ],
      "execution_count": 4,
      "outputs": []
    },
    {
      "cell_type": "code",
      "metadata": {
        "id": "ATAOBL1YlFeR",
        "colab_type": "code",
        "colab": {
          "base_uri": "https://localhost:8080/",
          "height": 218
        },
        "outputId": "6731da55-10dc-4544-84a2-6e53cdde55dd"
      },
      "source": [
        "data_preprocessed.head()"
      ],
      "execution_count": 5,
      "outputs": [
        {
          "output_type": "execute_result",
          "data": {
            "text/html": [
              "<div>\n",
              "<style scoped>\n",
              "    .dataframe tbody tr th:only-of-type {\n",
              "        vertical-align: middle;\n",
              "    }\n",
              "\n",
              "    .dataframe tbody tr th {\n",
              "        vertical-align: top;\n",
              "    }\n",
              "\n",
              "    .dataframe thead th {\n",
              "        text-align: right;\n",
              "    }\n",
              "</style>\n",
              "<table border=\"1\" class=\"dataframe\">\n",
              "  <thead>\n",
              "    <tr style=\"text-align: right;\">\n",
              "      <th></th>\n",
              "      <th>Reason_1</th>\n",
              "      <th>Reason_2</th>\n",
              "      <th>Reason_3</th>\n",
              "      <th>Reason_4</th>\n",
              "      <th>Month Value</th>\n",
              "      <th>Day of the Week</th>\n",
              "      <th>Transportation Expense</th>\n",
              "      <th>Distance to Work</th>\n",
              "      <th>Age</th>\n",
              "      <th>Daily Work Load Average</th>\n",
              "      <th>Body Mass Index</th>\n",
              "      <th>Education</th>\n",
              "      <th>Children</th>\n",
              "      <th>Pet</th>\n",
              "      <th>Absenteeism Time in Hours</th>\n",
              "    </tr>\n",
              "  </thead>\n",
              "  <tbody>\n",
              "    <tr>\n",
              "      <th>0</th>\n",
              "      <td>0</td>\n",
              "      <td>0</td>\n",
              "      <td>0</td>\n",
              "      <td>1</td>\n",
              "      <td>7</td>\n",
              "      <td>1</td>\n",
              "      <td>289</td>\n",
              "      <td>36</td>\n",
              "      <td>33</td>\n",
              "      <td>239.554</td>\n",
              "      <td>30</td>\n",
              "      <td>0</td>\n",
              "      <td>2</td>\n",
              "      <td>1</td>\n",
              "      <td>4</td>\n",
              "    </tr>\n",
              "    <tr>\n",
              "      <th>1</th>\n",
              "      <td>0</td>\n",
              "      <td>0</td>\n",
              "      <td>0</td>\n",
              "      <td>0</td>\n",
              "      <td>7</td>\n",
              "      <td>1</td>\n",
              "      <td>118</td>\n",
              "      <td>13</td>\n",
              "      <td>50</td>\n",
              "      <td>239.554</td>\n",
              "      <td>31</td>\n",
              "      <td>0</td>\n",
              "      <td>1</td>\n",
              "      <td>0</td>\n",
              "      <td>0</td>\n",
              "    </tr>\n",
              "    <tr>\n",
              "      <th>2</th>\n",
              "      <td>0</td>\n",
              "      <td>0</td>\n",
              "      <td>0</td>\n",
              "      <td>1</td>\n",
              "      <td>7</td>\n",
              "      <td>2</td>\n",
              "      <td>179</td>\n",
              "      <td>51</td>\n",
              "      <td>38</td>\n",
              "      <td>239.554</td>\n",
              "      <td>31</td>\n",
              "      <td>0</td>\n",
              "      <td>0</td>\n",
              "      <td>0</td>\n",
              "      <td>2</td>\n",
              "    </tr>\n",
              "    <tr>\n",
              "      <th>3</th>\n",
              "      <td>1</td>\n",
              "      <td>0</td>\n",
              "      <td>0</td>\n",
              "      <td>0</td>\n",
              "      <td>7</td>\n",
              "      <td>3</td>\n",
              "      <td>279</td>\n",
              "      <td>5</td>\n",
              "      <td>39</td>\n",
              "      <td>239.554</td>\n",
              "      <td>24</td>\n",
              "      <td>0</td>\n",
              "      <td>2</td>\n",
              "      <td>0</td>\n",
              "      <td>4</td>\n",
              "    </tr>\n",
              "    <tr>\n",
              "      <th>4</th>\n",
              "      <td>0</td>\n",
              "      <td>0</td>\n",
              "      <td>0</td>\n",
              "      <td>1</td>\n",
              "      <td>7</td>\n",
              "      <td>3</td>\n",
              "      <td>289</td>\n",
              "      <td>36</td>\n",
              "      <td>33</td>\n",
              "      <td>239.554</td>\n",
              "      <td>30</td>\n",
              "      <td>0</td>\n",
              "      <td>2</td>\n",
              "      <td>1</td>\n",
              "      <td>2</td>\n",
              "    </tr>\n",
              "  </tbody>\n",
              "</table>\n",
              "</div>"
            ],
            "text/plain": [
              "   Reason_1  Reason_2  Reason_3  ...  Children  Pet  Absenteeism Time in Hours\n",
              "0         0         0         0  ...         2    1                          4\n",
              "1         0         0         0  ...         1    0                          0\n",
              "2         0         0         0  ...         0    0                          2\n",
              "3         1         0         0  ...         2    0                          4\n",
              "4         0         0         0  ...         2    1                          2\n",
              "\n",
              "[5 rows x 15 columns]"
            ]
          },
          "metadata": {
            "tags": []
          },
          "execution_count": 5
        }
      ]
    },
    {
      "cell_type": "markdown",
      "metadata": {
        "id": "_HDW0-calFeX",
        "colab_type": "text"
      },
      "source": [
        "## Create the targets"
      ]
    },
    {
      "cell_type": "code",
      "metadata": {
        "id": "IIMPKoXJlFeZ",
        "colab_type": "code",
        "colab": {
          "base_uri": "https://localhost:8080/",
          "height": 34
        },
        "outputId": "efa756ce-00a5-4444-d5a1-e043224ebafc"
      },
      "source": [
        "data_preprocessed['Absenteeism Time in Hours'].median()"
      ],
      "execution_count": 6,
      "outputs": [
        {
          "output_type": "execute_result",
          "data": {
            "text/plain": [
              "3.0"
            ]
          },
          "metadata": {
            "tags": []
          },
          "execution_count": 6
        }
      ]
    },
    {
      "cell_type": "code",
      "metadata": {
        "id": "5Kb0PrQplFef",
        "colab_type": "code",
        "colab": {}
      },
      "source": [
        "targets = np.where(data_preprocessed['Absenteeism Time in Hours'] > \n",
        "                   data_preprocessed['Absenteeism Time in Hours'].median(), 1, 0)"
      ],
      "execution_count": 7,
      "outputs": []
    },
    {
      "cell_type": "code",
      "metadata": {
        "scrolled": true,
        "id": "E48bIVBelFep",
        "colab_type": "code",
        "colab": {
          "base_uri": "https://localhost:8080/",
          "height": 568
        },
        "outputId": "66dfa5a5-2b35-40bc-d7a0-3f26964e8b6a"
      },
      "source": [
        "targets"
      ],
      "execution_count": 8,
      "outputs": [
        {
          "output_type": "execute_result",
          "data": {
            "text/plain": [
              "array([1, 0, 0, 1, 0, 0, 1, 1, 1, 1, 1, 1, 1, 0, 1, 1, 0, 1, 1, 0, 1, 0,\n",
              "       1, 1, 1, 1, 0, 1, 1, 0, 1, 1, 1, 1, 0, 0, 1, 1, 1, 1, 0, 1, 1, 1,\n",
              "       0, 0, 0, 1, 1, 1, 0, 0, 0, 0, 0, 0, 0, 0, 0, 0, 0, 1, 0, 0, 0, 0,\n",
              "       0, 0, 0, 0, 0, 1, 1, 0, 1, 1, 0, 1, 0, 0, 0, 0, 1, 1, 1, 1, 1, 1,\n",
              "       0, 1, 0, 1, 0, 1, 0, 0, 1, 0, 0, 1, 0, 1, 0, 1, 1, 1, 0, 0, 0, 1,\n",
              "       0, 1, 0, 0, 0, 0, 1, 0, 0, 0, 0, 0, 0, 0, 0, 0, 0, 0, 0, 1, 1, 0,\n",
              "       0, 0, 0, 0, 0, 0, 1, 1, 0, 1, 0, 1, 1, 1, 0, 0, 0, 1, 0, 1, 0, 0,\n",
              "       1, 0, 1, 0, 1, 1, 1, 1, 0, 1, 1, 1, 1, 1, 1, 1, 1, 0, 1, 1, 0, 1,\n",
              "       0, 1, 1, 0, 1, 0, 0, 0, 0, 0, 0, 1, 0, 0, 1, 1, 0, 0, 1, 0, 1, 1,\n",
              "       1, 1, 1, 1, 0, 0, 1, 0, 0, 1, 1, 1, 0, 0, 1, 0, 0, 0, 0, 0, 1, 1,\n",
              "       1, 1, 1, 1, 1, 1, 1, 1, 1, 1, 0, 1, 1, 0, 0, 0, 1, 1, 1, 1, 1, 1,\n",
              "       0, 1, 1, 0, 1, 1, 1, 1, 1, 0, 1, 0, 0, 1, 0, 0, 1, 1, 0, 1, 0, 0,\n",
              "       0, 0, 0, 1, 1, 1, 1, 0, 1, 0, 1, 0, 0, 0, 1, 1, 0, 1, 1, 1, 0, 0,\n",
              "       0, 1, 1, 1, 1, 1, 1, 0, 0, 1, 0, 1, 0, 1, 0, 1, 0, 0, 0, 0, 0, 1,\n",
              "       1, 0, 1, 0, 0, 0, 1, 1, 0, 1, 0, 1, 0, 0, 1, 1, 1, 0, 0, 0, 0, 0,\n",
              "       1, 1, 1, 0, 1, 1, 0, 0, 0, 0, 0, 0, 0, 0, 1, 1, 0, 0, 0, 1, 0, 0,\n",
              "       1, 1, 1, 0, 0, 1, 1, 1, 0, 0, 1, 1, 1, 1, 1, 0, 0, 0, 0, 0, 0, 0,\n",
              "       0, 0, 0, 1, 1, 0, 1, 0, 0, 0, 1, 0, 0, 1, 0, 0, 1, 1, 0, 1, 0, 1,\n",
              "       1, 1, 1, 1, 0, 1, 0, 0, 1, 0, 0, 0, 1, 1, 1, 0, 1, 0, 1, 1, 1, 1,\n",
              "       1, 0, 1, 1, 1, 1, 0, 1, 0, 1, 0, 1, 0, 0, 0, 0, 1, 0, 1, 0, 0, 1,\n",
              "       0, 0, 0, 0, 1, 1, 0, 1, 1, 0, 1, 1, 0, 0, 0, 1, 0, 0, 0, 1, 0, 1,\n",
              "       1, 1, 1, 1, 1, 1, 1, 0, 0, 1, 0, 0, 1, 1, 1, 0, 0, 0, 1, 0, 1, 1,\n",
              "       1, 1, 1, 1, 1, 1, 1, 0, 1, 0, 0, 0, 0, 0, 0, 0, 1, 0, 1, 0, 0, 1,\n",
              "       1, 0, 0, 1, 0, 0, 0, 0, 0, 0, 1, 0, 1, 1, 0, 0, 0, 1, 0, 1, 0, 1,\n",
              "       1, 1, 0, 0, 0, 0, 1, 0, 1, 1, 1, 1, 1, 0, 0, 0, 0, 1, 1, 0, 0, 0,\n",
              "       1, 0, 0, 1, 0, 1, 0, 0, 0, 0, 0, 1, 0, 1, 1, 1, 0, 0, 0, 1, 1, 1,\n",
              "       0, 0, 0, 0, 1, 0, 0, 1, 0, 0, 1, 0, 0, 1, 0, 1, 0, 0, 0, 0, 0, 0,\n",
              "       0, 0, 1, 0, 0, 0, 0, 0, 0, 0, 0, 0, 1, 0, 1, 0, 0, 0, 0, 0, 0, 0,\n",
              "       0, 0, 0, 0, 0, 0, 1, 0, 0, 0, 0, 0, 0, 1, 1, 0, 0, 0, 1, 0, 0, 1,\n",
              "       0, 1, 0, 0, 0, 0, 0, 0, 0, 1, 1, 0, 0, 0, 1, 1, 1, 1, 1, 1, 1, 0,\n",
              "       1, 0, 0, 0, 0, 1, 0, 1, 0, 0, 1, 1, 0, 0, 1, 0, 0, 0, 1, 0, 0, 1,\n",
              "       1, 1, 0, 0, 0, 0, 0, 0, 0, 0, 1, 1, 1, 1, 0, 1, 0, 0])"
            ]
          },
          "metadata": {
            "tags": []
          },
          "execution_count": 8
        }
      ]
    },
    {
      "cell_type": "code",
      "metadata": {
        "id": "Og6tnFZ9lFey",
        "colab_type": "code",
        "colab": {}
      },
      "source": [
        "data_preprocessed['Excessive Absenteeism'] = targets"
      ],
      "execution_count": 9,
      "outputs": []
    },
    {
      "cell_type": "code",
      "metadata": {
        "id": "m1WVy2ddlFe6",
        "colab_type": "code",
        "colab": {
          "base_uri": "https://localhost:8080/",
          "height": 218
        },
        "outputId": "7b1d6a30-e81b-41f2-dd42-f8786f23e8f0"
      },
      "source": [
        "data_preprocessed.head()"
      ],
      "execution_count": 10,
      "outputs": [
        {
          "output_type": "execute_result",
          "data": {
            "text/html": [
              "<div>\n",
              "<style scoped>\n",
              "    .dataframe tbody tr th:only-of-type {\n",
              "        vertical-align: middle;\n",
              "    }\n",
              "\n",
              "    .dataframe tbody tr th {\n",
              "        vertical-align: top;\n",
              "    }\n",
              "\n",
              "    .dataframe thead th {\n",
              "        text-align: right;\n",
              "    }\n",
              "</style>\n",
              "<table border=\"1\" class=\"dataframe\">\n",
              "  <thead>\n",
              "    <tr style=\"text-align: right;\">\n",
              "      <th></th>\n",
              "      <th>Reason_1</th>\n",
              "      <th>Reason_2</th>\n",
              "      <th>Reason_3</th>\n",
              "      <th>Reason_4</th>\n",
              "      <th>Month Value</th>\n",
              "      <th>Day of the Week</th>\n",
              "      <th>Transportation Expense</th>\n",
              "      <th>Distance to Work</th>\n",
              "      <th>Age</th>\n",
              "      <th>Daily Work Load Average</th>\n",
              "      <th>Body Mass Index</th>\n",
              "      <th>Education</th>\n",
              "      <th>Children</th>\n",
              "      <th>Pet</th>\n",
              "      <th>Absenteeism Time in Hours</th>\n",
              "      <th>Excessive Absenteeism</th>\n",
              "    </tr>\n",
              "  </thead>\n",
              "  <tbody>\n",
              "    <tr>\n",
              "      <th>0</th>\n",
              "      <td>0</td>\n",
              "      <td>0</td>\n",
              "      <td>0</td>\n",
              "      <td>1</td>\n",
              "      <td>7</td>\n",
              "      <td>1</td>\n",
              "      <td>289</td>\n",
              "      <td>36</td>\n",
              "      <td>33</td>\n",
              "      <td>239.554</td>\n",
              "      <td>30</td>\n",
              "      <td>0</td>\n",
              "      <td>2</td>\n",
              "      <td>1</td>\n",
              "      <td>4</td>\n",
              "      <td>1</td>\n",
              "    </tr>\n",
              "    <tr>\n",
              "      <th>1</th>\n",
              "      <td>0</td>\n",
              "      <td>0</td>\n",
              "      <td>0</td>\n",
              "      <td>0</td>\n",
              "      <td>7</td>\n",
              "      <td>1</td>\n",
              "      <td>118</td>\n",
              "      <td>13</td>\n",
              "      <td>50</td>\n",
              "      <td>239.554</td>\n",
              "      <td>31</td>\n",
              "      <td>0</td>\n",
              "      <td>1</td>\n",
              "      <td>0</td>\n",
              "      <td>0</td>\n",
              "      <td>0</td>\n",
              "    </tr>\n",
              "    <tr>\n",
              "      <th>2</th>\n",
              "      <td>0</td>\n",
              "      <td>0</td>\n",
              "      <td>0</td>\n",
              "      <td>1</td>\n",
              "      <td>7</td>\n",
              "      <td>2</td>\n",
              "      <td>179</td>\n",
              "      <td>51</td>\n",
              "      <td>38</td>\n",
              "      <td>239.554</td>\n",
              "      <td>31</td>\n",
              "      <td>0</td>\n",
              "      <td>0</td>\n",
              "      <td>0</td>\n",
              "      <td>2</td>\n",
              "      <td>0</td>\n",
              "    </tr>\n",
              "    <tr>\n",
              "      <th>3</th>\n",
              "      <td>1</td>\n",
              "      <td>0</td>\n",
              "      <td>0</td>\n",
              "      <td>0</td>\n",
              "      <td>7</td>\n",
              "      <td>3</td>\n",
              "      <td>279</td>\n",
              "      <td>5</td>\n",
              "      <td>39</td>\n",
              "      <td>239.554</td>\n",
              "      <td>24</td>\n",
              "      <td>0</td>\n",
              "      <td>2</td>\n",
              "      <td>0</td>\n",
              "      <td>4</td>\n",
              "      <td>1</td>\n",
              "    </tr>\n",
              "    <tr>\n",
              "      <th>4</th>\n",
              "      <td>0</td>\n",
              "      <td>0</td>\n",
              "      <td>0</td>\n",
              "      <td>1</td>\n",
              "      <td>7</td>\n",
              "      <td>3</td>\n",
              "      <td>289</td>\n",
              "      <td>36</td>\n",
              "      <td>33</td>\n",
              "      <td>239.554</td>\n",
              "      <td>30</td>\n",
              "      <td>0</td>\n",
              "      <td>2</td>\n",
              "      <td>1</td>\n",
              "      <td>2</td>\n",
              "      <td>0</td>\n",
              "    </tr>\n",
              "  </tbody>\n",
              "</table>\n",
              "</div>"
            ],
            "text/plain": [
              "   Reason_1  Reason_2  ...  Absenteeism Time in Hours  Excessive Absenteeism\n",
              "0         0         0  ...                          4                      1\n",
              "1         0         0  ...                          0                      0\n",
              "2         0         0  ...                          2                      0\n",
              "3         1         0  ...                          4                      1\n",
              "4         0         0  ...                          2                      0\n",
              "\n",
              "[5 rows x 16 columns]"
            ]
          },
          "metadata": {
            "tags": []
          },
          "execution_count": 10
        }
      ]
    },
    {
      "cell_type": "markdown",
      "metadata": {
        "id": "8yuhBGzQlFfF",
        "colab_type": "text"
      },
      "source": [
        "## A comment on the targets"
      ]
    },
    {
      "cell_type": "code",
      "metadata": {
        "id": "pkPmSoeklFfH",
        "colab_type": "code",
        "colab": {
          "base_uri": "https://localhost:8080/",
          "height": 34
        },
        "outputId": "2f03d515-ce88-4788-b067-ae80bb943d15"
      },
      "source": [
        "targets.sum() / targets.shape[0]"
      ],
      "execution_count": 11,
      "outputs": [
        {
          "output_type": "execute_result",
          "data": {
            "text/plain": [
              "0.45571428571428574"
            ]
          },
          "metadata": {
            "tags": []
          },
          "execution_count": 11
        }
      ]
    },
    {
      "cell_type": "code",
      "metadata": {
        "id": "NbZYPExSlFfU",
        "colab_type": "code",
        "colab": {}
      },
      "source": [
        "data_with_targets = data_preprocessed.drop(['Absenteeism Time in Hours','Day of the Week',\n",
        "                                            'Daily Work Load Average','Distance to Work'],axis=1)"
      ],
      "execution_count": 12,
      "outputs": []
    },
    {
      "cell_type": "code",
      "metadata": {
        "id": "ZVSASfYRlFfb",
        "colab_type": "code",
        "colab": {
          "base_uri": "https://localhost:8080/",
          "height": 34
        },
        "outputId": "d7b3bd0b-7598-442c-d285-367b0bb9999d"
      },
      "source": [
        "data_with_targets is data_preprocessed"
      ],
      "execution_count": 13,
      "outputs": [
        {
          "output_type": "execute_result",
          "data": {
            "text/plain": [
              "False"
            ]
          },
          "metadata": {
            "tags": []
          },
          "execution_count": 13
        }
      ]
    },
    {
      "cell_type": "code",
      "metadata": {
        "id": "lzbmt_cClFfl",
        "colab_type": "code",
        "colab": {
          "base_uri": "https://localhost:8080/",
          "height": 201
        },
        "outputId": "e77ad558-8fda-4324-c43f-fd3aa32179a4"
      },
      "source": [
        "data_with_targets.head()"
      ],
      "execution_count": 14,
      "outputs": [
        {
          "output_type": "execute_result",
          "data": {
            "text/html": [
              "<div>\n",
              "<style scoped>\n",
              "    .dataframe tbody tr th:only-of-type {\n",
              "        vertical-align: middle;\n",
              "    }\n",
              "\n",
              "    .dataframe tbody tr th {\n",
              "        vertical-align: top;\n",
              "    }\n",
              "\n",
              "    .dataframe thead th {\n",
              "        text-align: right;\n",
              "    }\n",
              "</style>\n",
              "<table border=\"1\" class=\"dataframe\">\n",
              "  <thead>\n",
              "    <tr style=\"text-align: right;\">\n",
              "      <th></th>\n",
              "      <th>Reason_1</th>\n",
              "      <th>Reason_2</th>\n",
              "      <th>Reason_3</th>\n",
              "      <th>Reason_4</th>\n",
              "      <th>Month Value</th>\n",
              "      <th>Transportation Expense</th>\n",
              "      <th>Age</th>\n",
              "      <th>Body Mass Index</th>\n",
              "      <th>Education</th>\n",
              "      <th>Children</th>\n",
              "      <th>Pet</th>\n",
              "      <th>Excessive Absenteeism</th>\n",
              "    </tr>\n",
              "  </thead>\n",
              "  <tbody>\n",
              "    <tr>\n",
              "      <th>0</th>\n",
              "      <td>0</td>\n",
              "      <td>0</td>\n",
              "      <td>0</td>\n",
              "      <td>1</td>\n",
              "      <td>7</td>\n",
              "      <td>289</td>\n",
              "      <td>33</td>\n",
              "      <td>30</td>\n",
              "      <td>0</td>\n",
              "      <td>2</td>\n",
              "      <td>1</td>\n",
              "      <td>1</td>\n",
              "    </tr>\n",
              "    <tr>\n",
              "      <th>1</th>\n",
              "      <td>0</td>\n",
              "      <td>0</td>\n",
              "      <td>0</td>\n",
              "      <td>0</td>\n",
              "      <td>7</td>\n",
              "      <td>118</td>\n",
              "      <td>50</td>\n",
              "      <td>31</td>\n",
              "      <td>0</td>\n",
              "      <td>1</td>\n",
              "      <td>0</td>\n",
              "      <td>0</td>\n",
              "    </tr>\n",
              "    <tr>\n",
              "      <th>2</th>\n",
              "      <td>0</td>\n",
              "      <td>0</td>\n",
              "      <td>0</td>\n",
              "      <td>1</td>\n",
              "      <td>7</td>\n",
              "      <td>179</td>\n",
              "      <td>38</td>\n",
              "      <td>31</td>\n",
              "      <td>0</td>\n",
              "      <td>0</td>\n",
              "      <td>0</td>\n",
              "      <td>0</td>\n",
              "    </tr>\n",
              "    <tr>\n",
              "      <th>3</th>\n",
              "      <td>1</td>\n",
              "      <td>0</td>\n",
              "      <td>0</td>\n",
              "      <td>0</td>\n",
              "      <td>7</td>\n",
              "      <td>279</td>\n",
              "      <td>39</td>\n",
              "      <td>24</td>\n",
              "      <td>0</td>\n",
              "      <td>2</td>\n",
              "      <td>0</td>\n",
              "      <td>1</td>\n",
              "    </tr>\n",
              "    <tr>\n",
              "      <th>4</th>\n",
              "      <td>0</td>\n",
              "      <td>0</td>\n",
              "      <td>0</td>\n",
              "      <td>1</td>\n",
              "      <td>7</td>\n",
              "      <td>289</td>\n",
              "      <td>33</td>\n",
              "      <td>30</td>\n",
              "      <td>0</td>\n",
              "      <td>2</td>\n",
              "      <td>1</td>\n",
              "      <td>0</td>\n",
              "    </tr>\n",
              "  </tbody>\n",
              "</table>\n",
              "</div>"
            ],
            "text/plain": [
              "   Reason_1  Reason_2  Reason_3  ...  Children  Pet  Excessive Absenteeism\n",
              "0         0         0         0  ...         2    1                      1\n",
              "1         0         0         0  ...         1    0                      0\n",
              "2         0         0         0  ...         0    0                      0\n",
              "3         1         0         0  ...         2    0                      1\n",
              "4         0         0         0  ...         2    1                      0\n",
              "\n",
              "[5 rows x 12 columns]"
            ]
          },
          "metadata": {
            "tags": []
          },
          "execution_count": 14
        }
      ]
    },
    {
      "cell_type": "markdown",
      "metadata": {
        "id": "VfYxaZyolFfs",
        "colab_type": "text"
      },
      "source": [
        "## Select the inputs for the regression"
      ]
    },
    {
      "cell_type": "code",
      "metadata": {
        "id": "n3t13dErlFft",
        "colab_type": "code",
        "colab": {
          "base_uri": "https://localhost:8080/",
          "height": 34
        },
        "outputId": "5676f8f6-655c-41f2-9565-90acf1d509bd"
      },
      "source": [
        "data_with_targets.shape"
      ],
      "execution_count": 15,
      "outputs": [
        {
          "output_type": "execute_result",
          "data": {
            "text/plain": [
              "(700, 12)"
            ]
          },
          "metadata": {
            "tags": []
          },
          "execution_count": 15
        }
      ]
    },
    {
      "cell_type": "code",
      "metadata": {
        "scrolled": true,
        "id": "l2soc-L4lFf0",
        "colab_type": "code",
        "colab": {
          "base_uri": "https://localhost:8080/",
          "height": 413
        },
        "outputId": "e1046926-7e29-4d4b-be56-836cf96619b8"
      },
      "source": [
        "data_with_targets.iloc[:,:14]"
      ],
      "execution_count": 16,
      "outputs": [
        {
          "output_type": "execute_result",
          "data": {
            "text/html": [
              "<div>\n",
              "<style scoped>\n",
              "    .dataframe tbody tr th:only-of-type {\n",
              "        vertical-align: middle;\n",
              "    }\n",
              "\n",
              "    .dataframe tbody tr th {\n",
              "        vertical-align: top;\n",
              "    }\n",
              "\n",
              "    .dataframe thead th {\n",
              "        text-align: right;\n",
              "    }\n",
              "</style>\n",
              "<table border=\"1\" class=\"dataframe\">\n",
              "  <thead>\n",
              "    <tr style=\"text-align: right;\">\n",
              "      <th></th>\n",
              "      <th>Reason_1</th>\n",
              "      <th>Reason_2</th>\n",
              "      <th>Reason_3</th>\n",
              "      <th>Reason_4</th>\n",
              "      <th>Month Value</th>\n",
              "      <th>Transportation Expense</th>\n",
              "      <th>Age</th>\n",
              "      <th>Body Mass Index</th>\n",
              "      <th>Education</th>\n",
              "      <th>Children</th>\n",
              "      <th>Pet</th>\n",
              "      <th>Excessive Absenteeism</th>\n",
              "    </tr>\n",
              "  </thead>\n",
              "  <tbody>\n",
              "    <tr>\n",
              "      <th>0</th>\n",
              "      <td>0</td>\n",
              "      <td>0</td>\n",
              "      <td>0</td>\n",
              "      <td>1</td>\n",
              "      <td>7</td>\n",
              "      <td>289</td>\n",
              "      <td>33</td>\n",
              "      <td>30</td>\n",
              "      <td>0</td>\n",
              "      <td>2</td>\n",
              "      <td>1</td>\n",
              "      <td>1</td>\n",
              "    </tr>\n",
              "    <tr>\n",
              "      <th>1</th>\n",
              "      <td>0</td>\n",
              "      <td>0</td>\n",
              "      <td>0</td>\n",
              "      <td>0</td>\n",
              "      <td>7</td>\n",
              "      <td>118</td>\n",
              "      <td>50</td>\n",
              "      <td>31</td>\n",
              "      <td>0</td>\n",
              "      <td>1</td>\n",
              "      <td>0</td>\n",
              "      <td>0</td>\n",
              "    </tr>\n",
              "    <tr>\n",
              "      <th>2</th>\n",
              "      <td>0</td>\n",
              "      <td>0</td>\n",
              "      <td>0</td>\n",
              "      <td>1</td>\n",
              "      <td>7</td>\n",
              "      <td>179</td>\n",
              "      <td>38</td>\n",
              "      <td>31</td>\n",
              "      <td>0</td>\n",
              "      <td>0</td>\n",
              "      <td>0</td>\n",
              "      <td>0</td>\n",
              "    </tr>\n",
              "    <tr>\n",
              "      <th>3</th>\n",
              "      <td>1</td>\n",
              "      <td>0</td>\n",
              "      <td>0</td>\n",
              "      <td>0</td>\n",
              "      <td>7</td>\n",
              "      <td>279</td>\n",
              "      <td>39</td>\n",
              "      <td>24</td>\n",
              "      <td>0</td>\n",
              "      <td>2</td>\n",
              "      <td>0</td>\n",
              "      <td>1</td>\n",
              "    </tr>\n",
              "    <tr>\n",
              "      <th>4</th>\n",
              "      <td>0</td>\n",
              "      <td>0</td>\n",
              "      <td>0</td>\n",
              "      <td>1</td>\n",
              "      <td>7</td>\n",
              "      <td>289</td>\n",
              "      <td>33</td>\n",
              "      <td>30</td>\n",
              "      <td>0</td>\n",
              "      <td>2</td>\n",
              "      <td>1</td>\n",
              "      <td>0</td>\n",
              "    </tr>\n",
              "    <tr>\n",
              "      <th>...</th>\n",
              "      <td>...</td>\n",
              "      <td>...</td>\n",
              "      <td>...</td>\n",
              "      <td>...</td>\n",
              "      <td>...</td>\n",
              "      <td>...</td>\n",
              "      <td>...</td>\n",
              "      <td>...</td>\n",
              "      <td>...</td>\n",
              "      <td>...</td>\n",
              "      <td>...</td>\n",
              "      <td>...</td>\n",
              "    </tr>\n",
              "    <tr>\n",
              "      <th>695</th>\n",
              "      <td>1</td>\n",
              "      <td>0</td>\n",
              "      <td>0</td>\n",
              "      <td>0</td>\n",
              "      <td>5</td>\n",
              "      <td>179</td>\n",
              "      <td>40</td>\n",
              "      <td>22</td>\n",
              "      <td>1</td>\n",
              "      <td>2</td>\n",
              "      <td>0</td>\n",
              "      <td>1</td>\n",
              "    </tr>\n",
              "    <tr>\n",
              "      <th>696</th>\n",
              "      <td>1</td>\n",
              "      <td>0</td>\n",
              "      <td>0</td>\n",
              "      <td>0</td>\n",
              "      <td>5</td>\n",
              "      <td>225</td>\n",
              "      <td>28</td>\n",
              "      <td>24</td>\n",
              "      <td>0</td>\n",
              "      <td>1</td>\n",
              "      <td>2</td>\n",
              "      <td>0</td>\n",
              "    </tr>\n",
              "    <tr>\n",
              "      <th>697</th>\n",
              "      <td>1</td>\n",
              "      <td>0</td>\n",
              "      <td>0</td>\n",
              "      <td>0</td>\n",
              "      <td>5</td>\n",
              "      <td>330</td>\n",
              "      <td>28</td>\n",
              "      <td>25</td>\n",
              "      <td>1</td>\n",
              "      <td>0</td>\n",
              "      <td>0</td>\n",
              "      <td>1</td>\n",
              "    </tr>\n",
              "    <tr>\n",
              "      <th>698</th>\n",
              "      <td>0</td>\n",
              "      <td>0</td>\n",
              "      <td>0</td>\n",
              "      <td>1</td>\n",
              "      <td>5</td>\n",
              "      <td>235</td>\n",
              "      <td>32</td>\n",
              "      <td>25</td>\n",
              "      <td>1</td>\n",
              "      <td>0</td>\n",
              "      <td>0</td>\n",
              "      <td>0</td>\n",
              "    </tr>\n",
              "    <tr>\n",
              "      <th>699</th>\n",
              "      <td>0</td>\n",
              "      <td>0</td>\n",
              "      <td>0</td>\n",
              "      <td>1</td>\n",
              "      <td>5</td>\n",
              "      <td>291</td>\n",
              "      <td>40</td>\n",
              "      <td>25</td>\n",
              "      <td>0</td>\n",
              "      <td>1</td>\n",
              "      <td>1</td>\n",
              "      <td>0</td>\n",
              "    </tr>\n",
              "  </tbody>\n",
              "</table>\n",
              "<p>700 rows × 12 columns</p>\n",
              "</div>"
            ],
            "text/plain": [
              "     Reason_1  Reason_2  Reason_3  ...  Children  Pet  Excessive Absenteeism\n",
              "0           0         0         0  ...         2    1                      1\n",
              "1           0         0         0  ...         1    0                      0\n",
              "2           0         0         0  ...         0    0                      0\n",
              "3           1         0         0  ...         2    0                      1\n",
              "4           0         0         0  ...         2    1                      0\n",
              "..        ...       ...       ...  ...       ...  ...                    ...\n",
              "695         1         0         0  ...         2    0                      1\n",
              "696         1         0         0  ...         1    2                      0\n",
              "697         1         0         0  ...         0    0                      1\n",
              "698         0         0         0  ...         0    0                      0\n",
              "699         0         0         0  ...         1    1                      0\n",
              "\n",
              "[700 rows x 12 columns]"
            ]
          },
          "metadata": {
            "tags": []
          },
          "execution_count": 16
        }
      ]
    },
    {
      "cell_type": "code",
      "metadata": {
        "scrolled": true,
        "id": "So2z0chFlFf6",
        "colab_type": "code",
        "colab": {
          "base_uri": "https://localhost:8080/",
          "height": 413
        },
        "outputId": "bff057ed-23d6-49b7-9f19-8a75b3f11d6e"
      },
      "source": [
        "data_with_targets.iloc[:,:-1]"
      ],
      "execution_count": 17,
      "outputs": [
        {
          "output_type": "execute_result",
          "data": {
            "text/html": [
              "<div>\n",
              "<style scoped>\n",
              "    .dataframe tbody tr th:only-of-type {\n",
              "        vertical-align: middle;\n",
              "    }\n",
              "\n",
              "    .dataframe tbody tr th {\n",
              "        vertical-align: top;\n",
              "    }\n",
              "\n",
              "    .dataframe thead th {\n",
              "        text-align: right;\n",
              "    }\n",
              "</style>\n",
              "<table border=\"1\" class=\"dataframe\">\n",
              "  <thead>\n",
              "    <tr style=\"text-align: right;\">\n",
              "      <th></th>\n",
              "      <th>Reason_1</th>\n",
              "      <th>Reason_2</th>\n",
              "      <th>Reason_3</th>\n",
              "      <th>Reason_4</th>\n",
              "      <th>Month Value</th>\n",
              "      <th>Transportation Expense</th>\n",
              "      <th>Age</th>\n",
              "      <th>Body Mass Index</th>\n",
              "      <th>Education</th>\n",
              "      <th>Children</th>\n",
              "      <th>Pet</th>\n",
              "    </tr>\n",
              "  </thead>\n",
              "  <tbody>\n",
              "    <tr>\n",
              "      <th>0</th>\n",
              "      <td>0</td>\n",
              "      <td>0</td>\n",
              "      <td>0</td>\n",
              "      <td>1</td>\n",
              "      <td>7</td>\n",
              "      <td>289</td>\n",
              "      <td>33</td>\n",
              "      <td>30</td>\n",
              "      <td>0</td>\n",
              "      <td>2</td>\n",
              "      <td>1</td>\n",
              "    </tr>\n",
              "    <tr>\n",
              "      <th>1</th>\n",
              "      <td>0</td>\n",
              "      <td>0</td>\n",
              "      <td>0</td>\n",
              "      <td>0</td>\n",
              "      <td>7</td>\n",
              "      <td>118</td>\n",
              "      <td>50</td>\n",
              "      <td>31</td>\n",
              "      <td>0</td>\n",
              "      <td>1</td>\n",
              "      <td>0</td>\n",
              "    </tr>\n",
              "    <tr>\n",
              "      <th>2</th>\n",
              "      <td>0</td>\n",
              "      <td>0</td>\n",
              "      <td>0</td>\n",
              "      <td>1</td>\n",
              "      <td>7</td>\n",
              "      <td>179</td>\n",
              "      <td>38</td>\n",
              "      <td>31</td>\n",
              "      <td>0</td>\n",
              "      <td>0</td>\n",
              "      <td>0</td>\n",
              "    </tr>\n",
              "    <tr>\n",
              "      <th>3</th>\n",
              "      <td>1</td>\n",
              "      <td>0</td>\n",
              "      <td>0</td>\n",
              "      <td>0</td>\n",
              "      <td>7</td>\n",
              "      <td>279</td>\n",
              "      <td>39</td>\n",
              "      <td>24</td>\n",
              "      <td>0</td>\n",
              "      <td>2</td>\n",
              "      <td>0</td>\n",
              "    </tr>\n",
              "    <tr>\n",
              "      <th>4</th>\n",
              "      <td>0</td>\n",
              "      <td>0</td>\n",
              "      <td>0</td>\n",
              "      <td>1</td>\n",
              "      <td>7</td>\n",
              "      <td>289</td>\n",
              "      <td>33</td>\n",
              "      <td>30</td>\n",
              "      <td>0</td>\n",
              "      <td>2</td>\n",
              "      <td>1</td>\n",
              "    </tr>\n",
              "    <tr>\n",
              "      <th>...</th>\n",
              "      <td>...</td>\n",
              "      <td>...</td>\n",
              "      <td>...</td>\n",
              "      <td>...</td>\n",
              "      <td>...</td>\n",
              "      <td>...</td>\n",
              "      <td>...</td>\n",
              "      <td>...</td>\n",
              "      <td>...</td>\n",
              "      <td>...</td>\n",
              "      <td>...</td>\n",
              "    </tr>\n",
              "    <tr>\n",
              "      <th>695</th>\n",
              "      <td>1</td>\n",
              "      <td>0</td>\n",
              "      <td>0</td>\n",
              "      <td>0</td>\n",
              "      <td>5</td>\n",
              "      <td>179</td>\n",
              "      <td>40</td>\n",
              "      <td>22</td>\n",
              "      <td>1</td>\n",
              "      <td>2</td>\n",
              "      <td>0</td>\n",
              "    </tr>\n",
              "    <tr>\n",
              "      <th>696</th>\n",
              "      <td>1</td>\n",
              "      <td>0</td>\n",
              "      <td>0</td>\n",
              "      <td>0</td>\n",
              "      <td>5</td>\n",
              "      <td>225</td>\n",
              "      <td>28</td>\n",
              "      <td>24</td>\n",
              "      <td>0</td>\n",
              "      <td>1</td>\n",
              "      <td>2</td>\n",
              "    </tr>\n",
              "    <tr>\n",
              "      <th>697</th>\n",
              "      <td>1</td>\n",
              "      <td>0</td>\n",
              "      <td>0</td>\n",
              "      <td>0</td>\n",
              "      <td>5</td>\n",
              "      <td>330</td>\n",
              "      <td>28</td>\n",
              "      <td>25</td>\n",
              "      <td>1</td>\n",
              "      <td>0</td>\n",
              "      <td>0</td>\n",
              "    </tr>\n",
              "    <tr>\n",
              "      <th>698</th>\n",
              "      <td>0</td>\n",
              "      <td>0</td>\n",
              "      <td>0</td>\n",
              "      <td>1</td>\n",
              "      <td>5</td>\n",
              "      <td>235</td>\n",
              "      <td>32</td>\n",
              "      <td>25</td>\n",
              "      <td>1</td>\n",
              "      <td>0</td>\n",
              "      <td>0</td>\n",
              "    </tr>\n",
              "    <tr>\n",
              "      <th>699</th>\n",
              "      <td>0</td>\n",
              "      <td>0</td>\n",
              "      <td>0</td>\n",
              "      <td>1</td>\n",
              "      <td>5</td>\n",
              "      <td>291</td>\n",
              "      <td>40</td>\n",
              "      <td>25</td>\n",
              "      <td>0</td>\n",
              "      <td>1</td>\n",
              "      <td>1</td>\n",
              "    </tr>\n",
              "  </tbody>\n",
              "</table>\n",
              "<p>700 rows × 11 columns</p>\n",
              "</div>"
            ],
            "text/plain": [
              "     Reason_1  Reason_2  Reason_3  ...  Education  Children  Pet\n",
              "0           0         0         0  ...          0         2    1\n",
              "1           0         0         0  ...          0         1    0\n",
              "2           0         0         0  ...          0         0    0\n",
              "3           1         0         0  ...          0         2    0\n",
              "4           0         0         0  ...          0         2    1\n",
              "..        ...       ...       ...  ...        ...       ...  ...\n",
              "695         1         0         0  ...          1         2    0\n",
              "696         1         0         0  ...          0         1    2\n",
              "697         1         0         0  ...          1         0    0\n",
              "698         0         0         0  ...          1         0    0\n",
              "699         0         0         0  ...          0         1    1\n",
              "\n",
              "[700 rows x 11 columns]"
            ]
          },
          "metadata": {
            "tags": []
          },
          "execution_count": 17
        }
      ]
    },
    {
      "cell_type": "code",
      "metadata": {
        "id": "jocDMsNxlFf_",
        "colab_type": "code",
        "colab": {}
      },
      "source": [
        "unscaled_inputs = data_with_targets.iloc[:,:-1]"
      ],
      "execution_count": 18,
      "outputs": []
    },
    {
      "cell_type": "markdown",
      "metadata": {
        "id": "vPncFkiHlFgI",
        "colab_type": "text"
      },
      "source": [
        "## Standardize the data"
      ]
    },
    {
      "cell_type": "code",
      "metadata": {
        "id": "HwAJeMn6lFgJ",
        "colab_type": "code",
        "colab": {}
      },
      "source": [
        "from sklearn.preprocessing import StandardScaler\n",
        "\n",
        "absenteeism_scaler = StandardScaler()"
      ],
      "execution_count": 19,
      "outputs": []
    },
    {
      "cell_type": "code",
      "metadata": {
        "id": "Y-X2u4vJlFgP",
        "colab_type": "code",
        "colab": {}
      },
      "source": [
        "from sklearn.base import BaseEstimator, TransformerMixin\n",
        "from sklearn.preprocessing import StandardScaler\n",
        "\n",
        "class CustomScaler(BaseEstimator,TransformerMixin): \n",
        "    \n",
        "    def __init__(self,columns,copy=True,with_mean=True,with_std=True):\n",
        "        self.scaler = StandardScaler(copy,with_mean,with_std)\n",
        "        self.columns = columns\n",
        "        self.mean_ = None\n",
        "        self.var_ = None\n",
        "\n",
        "    def fit(self, X, y=None):\n",
        "        self.scaler.fit(X[self.columns], y)\n",
        "        self.mean_ = np.mean(X[self.columns])\n",
        "        self.var_ = np.var(X[self.columns])\n",
        "        return self\n",
        "\n",
        "    def transform(self, X, y=None, copy=None):\n",
        "        init_col_order = X.columns\n",
        "        X_scaled = pd.DataFrame(self.scaler.transform(X[self.columns]), columns=self.columns)\n",
        "        X_not_scaled = X.loc[:,~X.columns.isin(self.columns)]\n",
        "        return pd.concat([X_not_scaled, X_scaled], axis=1)[init_col_order]"
      ],
      "execution_count": 20,
      "outputs": []
    },
    {
      "cell_type": "code",
      "metadata": {
        "id": "EOB2yVtDlFgW",
        "colab_type": "code",
        "colab": {
          "base_uri": "https://localhost:8080/",
          "height": 69
        },
        "outputId": "8a76aa63-7811-4854-9430-a98736787fa5"
      },
      "source": [
        "unscaled_inputs.columns.values"
      ],
      "execution_count": 21,
      "outputs": [
        {
          "output_type": "execute_result",
          "data": {
            "text/plain": [
              "array(['Reason_1', 'Reason_2', 'Reason_3', 'Reason_4', 'Month Value',\n",
              "       'Transportation Expense', 'Age', 'Body Mass Index', 'Education',\n",
              "       'Children', 'Pet'], dtype=object)"
            ]
          },
          "metadata": {
            "tags": []
          },
          "execution_count": 21
        }
      ]
    },
    {
      "cell_type": "code",
      "metadata": {
        "id": "qrEHoj7PlFgb",
        "colab_type": "code",
        "colab": {}
      },
      "source": [
        "#columns_to_scale = ['Month Value','Day of the Week', 'Transportation Expense', 'Distance to Work',\n",
        "       #'Age', 'Daily Work Load Average', 'Body Mass Index', 'Children', 'Pet']\n",
        "\n",
        "columns_to_omit = ['Reason_1', 'Reason_2', 'Reason_3', 'Reason_4','Education']"
      ],
      "execution_count": 22,
      "outputs": []
    },
    {
      "cell_type": "code",
      "metadata": {
        "id": "2Deemp29lFgi",
        "colab_type": "code",
        "colab": {}
      },
      "source": [
        "columns_to_scale = [x for x in unscaled_inputs.columns.values if x not in columns_to_omit]"
      ],
      "execution_count": 23,
      "outputs": []
    },
    {
      "cell_type": "code",
      "metadata": {
        "id": "PNl-rRDrlFgo",
        "colab_type": "code",
        "colab": {}
      },
      "source": [
        "absenteeism_scaler = CustomScaler(columns_to_scale)"
      ],
      "execution_count": 24,
      "outputs": []
    },
    {
      "cell_type": "code",
      "metadata": {
        "id": "hxW4CA2XlFgt",
        "colab_type": "code",
        "colab": {
          "base_uri": "https://localhost:8080/",
          "height": 123
        },
        "outputId": "99edc7f1-450f-42fa-f894-415259a25c71"
      },
      "source": [
        "absenteeism_scaler.fit(unscaled_inputs)"
      ],
      "execution_count": 25,
      "outputs": [
        {
          "output_type": "stream",
          "text": [
            "/usr/local/lib/python3.6/dist-packages/sklearn/base.py:197: FutureWarning: From version 0.24, get_params will raise an AttributeError if a parameter cannot be retrieved as an instance attribute. Previously it would return None.\n",
            "  FutureWarning)\n"
          ],
          "name": "stderr"
        },
        {
          "output_type": "execute_result",
          "data": {
            "text/plain": [
              "CustomScaler(columns=['Month Value', 'Transportation Expense', 'Age',\n",
              "                      'Body Mass Index', 'Children', 'Pet'],\n",
              "             copy=None, with_mean=None, with_std=None)"
            ]
          },
          "metadata": {
            "tags": []
          },
          "execution_count": 25
        }
      ]
    },
    {
      "cell_type": "code",
      "metadata": {
        "id": "uBq7j8U9lFgy",
        "colab_type": "code",
        "colab": {}
      },
      "source": [
        "scaled_inputs = absenteeism_scaler.transform(unscaled_inputs)"
      ],
      "execution_count": 26,
      "outputs": []
    },
    {
      "cell_type": "code",
      "metadata": {
        "scrolled": true,
        "id": "J1m3_GrXlFg5",
        "colab_type": "code",
        "colab": {
          "base_uri": "https://localhost:8080/",
          "height": 413
        },
        "outputId": "51582c04-b091-4051-ae32-d1a9203234e5"
      },
      "source": [
        "scaled_inputs"
      ],
      "execution_count": 27,
      "outputs": [
        {
          "output_type": "execute_result",
          "data": {
            "text/html": [
              "<div>\n",
              "<style scoped>\n",
              "    .dataframe tbody tr th:only-of-type {\n",
              "        vertical-align: middle;\n",
              "    }\n",
              "\n",
              "    .dataframe tbody tr th {\n",
              "        vertical-align: top;\n",
              "    }\n",
              "\n",
              "    .dataframe thead th {\n",
              "        text-align: right;\n",
              "    }\n",
              "</style>\n",
              "<table border=\"1\" class=\"dataframe\">\n",
              "  <thead>\n",
              "    <tr style=\"text-align: right;\">\n",
              "      <th></th>\n",
              "      <th>Reason_1</th>\n",
              "      <th>Reason_2</th>\n",
              "      <th>Reason_3</th>\n",
              "      <th>Reason_4</th>\n",
              "      <th>Month Value</th>\n",
              "      <th>Transportation Expense</th>\n",
              "      <th>Age</th>\n",
              "      <th>Body Mass Index</th>\n",
              "      <th>Education</th>\n",
              "      <th>Children</th>\n",
              "      <th>Pet</th>\n",
              "    </tr>\n",
              "  </thead>\n",
              "  <tbody>\n",
              "    <tr>\n",
              "      <th>0</th>\n",
              "      <td>0</td>\n",
              "      <td>0</td>\n",
              "      <td>0</td>\n",
              "      <td>1</td>\n",
              "      <td>0.030796</td>\n",
              "      <td>1.005844</td>\n",
              "      <td>-0.536062</td>\n",
              "      <td>0.767431</td>\n",
              "      <td>0</td>\n",
              "      <td>0.880469</td>\n",
              "      <td>0.268487</td>\n",
              "    </tr>\n",
              "    <tr>\n",
              "      <th>1</th>\n",
              "      <td>0</td>\n",
              "      <td>0</td>\n",
              "      <td>0</td>\n",
              "      <td>0</td>\n",
              "      <td>0.030796</td>\n",
              "      <td>-1.574681</td>\n",
              "      <td>2.130803</td>\n",
              "      <td>1.002633</td>\n",
              "      <td>0</td>\n",
              "      <td>-0.019280</td>\n",
              "      <td>-0.589690</td>\n",
              "    </tr>\n",
              "    <tr>\n",
              "      <th>2</th>\n",
              "      <td>0</td>\n",
              "      <td>0</td>\n",
              "      <td>0</td>\n",
              "      <td>1</td>\n",
              "      <td>0.030796</td>\n",
              "      <td>-0.654143</td>\n",
              "      <td>0.248310</td>\n",
              "      <td>1.002633</td>\n",
              "      <td>0</td>\n",
              "      <td>-0.919030</td>\n",
              "      <td>-0.589690</td>\n",
              "    </tr>\n",
              "    <tr>\n",
              "      <th>3</th>\n",
              "      <td>1</td>\n",
              "      <td>0</td>\n",
              "      <td>0</td>\n",
              "      <td>0</td>\n",
              "      <td>0.030796</td>\n",
              "      <td>0.854936</td>\n",
              "      <td>0.405184</td>\n",
              "      <td>-0.643782</td>\n",
              "      <td>0</td>\n",
              "      <td>0.880469</td>\n",
              "      <td>-0.589690</td>\n",
              "    </tr>\n",
              "    <tr>\n",
              "      <th>4</th>\n",
              "      <td>0</td>\n",
              "      <td>0</td>\n",
              "      <td>0</td>\n",
              "      <td>1</td>\n",
              "      <td>0.030796</td>\n",
              "      <td>1.005844</td>\n",
              "      <td>-0.536062</td>\n",
              "      <td>0.767431</td>\n",
              "      <td>0</td>\n",
              "      <td>0.880469</td>\n",
              "      <td>0.268487</td>\n",
              "    </tr>\n",
              "    <tr>\n",
              "      <th>...</th>\n",
              "      <td>...</td>\n",
              "      <td>...</td>\n",
              "      <td>...</td>\n",
              "      <td>...</td>\n",
              "      <td>...</td>\n",
              "      <td>...</td>\n",
              "      <td>...</td>\n",
              "      <td>...</td>\n",
              "      <td>...</td>\n",
              "      <td>...</td>\n",
              "      <td>...</td>\n",
              "    </tr>\n",
              "    <tr>\n",
              "      <th>695</th>\n",
              "      <td>1</td>\n",
              "      <td>0</td>\n",
              "      <td>0</td>\n",
              "      <td>0</td>\n",
              "      <td>-0.568019</td>\n",
              "      <td>-0.654143</td>\n",
              "      <td>0.562059</td>\n",
              "      <td>-1.114186</td>\n",
              "      <td>1</td>\n",
              "      <td>0.880469</td>\n",
              "      <td>-0.589690</td>\n",
              "    </tr>\n",
              "    <tr>\n",
              "      <th>696</th>\n",
              "      <td>1</td>\n",
              "      <td>0</td>\n",
              "      <td>0</td>\n",
              "      <td>0</td>\n",
              "      <td>-0.568019</td>\n",
              "      <td>0.040034</td>\n",
              "      <td>-1.320435</td>\n",
              "      <td>-0.643782</td>\n",
              "      <td>0</td>\n",
              "      <td>-0.019280</td>\n",
              "      <td>1.126663</td>\n",
              "    </tr>\n",
              "    <tr>\n",
              "      <th>697</th>\n",
              "      <td>1</td>\n",
              "      <td>0</td>\n",
              "      <td>0</td>\n",
              "      <td>0</td>\n",
              "      <td>-0.568019</td>\n",
              "      <td>1.624567</td>\n",
              "      <td>-1.320435</td>\n",
              "      <td>-0.408580</td>\n",
              "      <td>1</td>\n",
              "      <td>-0.919030</td>\n",
              "      <td>-0.589690</td>\n",
              "    </tr>\n",
              "    <tr>\n",
              "      <th>698</th>\n",
              "      <td>0</td>\n",
              "      <td>0</td>\n",
              "      <td>0</td>\n",
              "      <td>1</td>\n",
              "      <td>-0.568019</td>\n",
              "      <td>0.190942</td>\n",
              "      <td>-0.692937</td>\n",
              "      <td>-0.408580</td>\n",
              "      <td>1</td>\n",
              "      <td>-0.919030</td>\n",
              "      <td>-0.589690</td>\n",
              "    </tr>\n",
              "    <tr>\n",
              "      <th>699</th>\n",
              "      <td>0</td>\n",
              "      <td>0</td>\n",
              "      <td>0</td>\n",
              "      <td>1</td>\n",
              "      <td>-0.568019</td>\n",
              "      <td>1.036026</td>\n",
              "      <td>0.562059</td>\n",
              "      <td>-0.408580</td>\n",
              "      <td>0</td>\n",
              "      <td>-0.019280</td>\n",
              "      <td>0.268487</td>\n",
              "    </tr>\n",
              "  </tbody>\n",
              "</table>\n",
              "<p>700 rows × 11 columns</p>\n",
              "</div>"
            ],
            "text/plain": [
              "     Reason_1  Reason_2  Reason_3  ...  Education  Children       Pet\n",
              "0           0         0         0  ...          0  0.880469  0.268487\n",
              "1           0         0         0  ...          0 -0.019280 -0.589690\n",
              "2           0         0         0  ...          0 -0.919030 -0.589690\n",
              "3           1         0         0  ...          0  0.880469 -0.589690\n",
              "4           0         0         0  ...          0  0.880469  0.268487\n",
              "..        ...       ...       ...  ...        ...       ...       ...\n",
              "695         1         0         0  ...          1  0.880469 -0.589690\n",
              "696         1         0         0  ...          0 -0.019280  1.126663\n",
              "697         1         0         0  ...          1 -0.919030 -0.589690\n",
              "698         0         0         0  ...          1 -0.919030 -0.589690\n",
              "699         0         0         0  ...          0 -0.019280  0.268487\n",
              "\n",
              "[700 rows x 11 columns]"
            ]
          },
          "metadata": {
            "tags": []
          },
          "execution_count": 27
        }
      ]
    },
    {
      "cell_type": "code",
      "metadata": {
        "id": "MLeJcz9IlFhA",
        "colab_type": "code",
        "colab": {
          "base_uri": "https://localhost:8080/",
          "height": 34
        },
        "outputId": "8e179c4e-ac9c-4065-97c0-d676a29e9eba"
      },
      "source": [
        "scaled_inputs.shape"
      ],
      "execution_count": 28,
      "outputs": [
        {
          "output_type": "execute_result",
          "data": {
            "text/plain": [
              "(700, 11)"
            ]
          },
          "metadata": {
            "tags": []
          },
          "execution_count": 28
        }
      ]
    },
    {
      "cell_type": "markdown",
      "metadata": {
        "id": "UlYIM5ZRlFhG",
        "colab_type": "text"
      },
      "source": [
        "## Split the data into train & test and shuffle"
      ]
    },
    {
      "cell_type": "markdown",
      "metadata": {
        "id": "5FxSrhtVlFhI",
        "colab_type": "text"
      },
      "source": [
        "### Import the relevant module"
      ]
    },
    {
      "cell_type": "code",
      "metadata": {
        "id": "PDn3yEfhlFhJ",
        "colab_type": "code",
        "colab": {}
      },
      "source": [
        "from sklearn.model_selection import train_test_split"
      ],
      "execution_count": 29,
      "outputs": []
    },
    {
      "cell_type": "markdown",
      "metadata": {
        "id": "U3jUQnljlFhO",
        "colab_type": "text"
      },
      "source": [
        "### Split"
      ]
    },
    {
      "cell_type": "code",
      "metadata": {
        "scrolled": true,
        "id": "kkT9ua-NlFhP",
        "colab_type": "code",
        "colab": {
          "base_uri": "https://localhost:8080/",
          "height": 1000
        },
        "outputId": "e751f423-abd8-4b1e-fc80-c18b35618a8b"
      },
      "source": [
        "train_test_split(scaled_inputs, targets)"
      ],
      "execution_count": 30,
      "outputs": [
        {
          "output_type": "execute_result",
          "data": {
            "text/plain": [
              "[     Reason_1  Reason_2  Reason_3  ...  Education  Children       Pet\n",
              " 650         0         0         0  ...          0 -0.919030 -0.589690\n",
              " 445         0         0         0  ...          0  2.679969 -0.589690\n",
              " 531         1         0         0  ...          0 -0.019280  1.126663\n",
              " 446         0         0         0  ...          0 -0.919030 -0.589690\n",
              " 372         0         0         0  ...          0  0.880469  0.268487\n",
              " ..        ...       ...       ...  ...        ...       ...       ...\n",
              " 304         0         0         0  ...          0 -0.019280 -0.589690\n",
              " 40          0         0         0  ...          0 -0.919030 -0.589690\n",
              " 147         0         0         0  ...          0 -0.019280  1.126663\n",
              " 530         0         0         0  ...          0 -0.019280  1.126663\n",
              " 669         0         0         0  ...          1 -0.919030 -0.589690\n",
              " \n",
              " [525 rows x 11 columns],\n",
              "      Reason_1  Reason_2  Reason_3  ...  Education  Children       Pet\n",
              " 657         0         0         1  ...          0  0.880469  0.268487\n",
              " 111         0         0         1  ...          0 -0.919030 -0.589690\n",
              " 495         0         0         0  ...          0 -0.919030 -0.589690\n",
              " 422         0         0         0  ...          0  2.679969 -0.589690\n",
              " 272         0         0         1  ...          0  0.880469  0.268487\n",
              " ..        ...       ...       ...  ...        ...       ...       ...\n",
              " 448         0         0         0  ...          0 -0.919030 -0.589690\n",
              " 158         0         1         0  ...          1  0.880469 -0.589690\n",
              " 501         0         0         0  ...          0  0.880469  0.268487\n",
              " 318         0         0         0  ...          0  0.880469  0.268487\n",
              " 192         0         0         0  ...          0 -0.019280 -0.589690\n",
              " \n",
              " [175 rows x 11 columns],\n",
              " array([0, 1, 0, 0, 0, 1, 1, 1, 1, 1, 0, 1, 1, 1, 0, 0, 0, 1, 0, 1, 0, 1,\n",
              "        0, 1, 1, 0, 0, 1, 1, 1, 1, 1, 1, 0, 1, 1, 0, 0, 1, 0, 0, 1, 0, 1,\n",
              "        1, 0, 1, 1, 1, 0, 0, 0, 1, 0, 0, 1, 1, 0, 1, 1, 0, 0, 0, 0, 0, 0,\n",
              "        0, 1, 0, 1, 1, 0, 0, 0, 0, 0, 0, 1, 1, 1, 1, 0, 1, 0, 0, 1, 0, 0,\n",
              "        1, 1, 0, 0, 1, 1, 0, 0, 0, 0, 1, 0, 1, 1, 1, 0, 0, 0, 0, 0, 0, 1,\n",
              "        0, 0, 0, 0, 1, 0, 1, 0, 1, 0, 0, 0, 0, 1, 0, 0, 1, 1, 1, 1, 1, 1,\n",
              "        1, 1, 1, 0, 1, 1, 0, 1, 0, 0, 0, 0, 0, 1, 1, 1, 0, 1, 1, 1, 0, 1,\n",
              "        0, 0, 1, 1, 0, 0, 1, 1, 1, 0, 0, 0, 1, 0, 0, 1, 1, 0, 1, 0, 0, 0,\n",
              "        0, 0, 1, 0, 0, 0, 1, 1, 1, 1, 0, 0, 0, 0, 1, 0, 1, 1, 0, 1, 0, 0,\n",
              "        0, 1, 0, 0, 0, 1, 0, 0, 0, 0, 0, 0, 0, 1, 0, 0, 0, 1, 0, 1, 0, 0,\n",
              "        1, 0, 1, 1, 0, 0, 1, 0, 0, 0, 0, 0, 1, 1, 0, 0, 0, 0, 1, 1, 0, 0,\n",
              "        1, 0, 0, 0, 1, 0, 0, 1, 1, 0, 0, 0, 0, 1, 0, 1, 0, 0, 0, 1, 0, 0,\n",
              "        1, 0, 1, 1, 1, 1, 0, 0, 1, 1, 1, 1, 0, 0, 1, 0, 0, 0, 1, 0, 1, 0,\n",
              "        1, 0, 1, 0, 1, 0, 0, 0, 1, 1, 0, 0, 1, 0, 1, 1, 1, 0, 1, 0, 1, 0,\n",
              "        1, 0, 0, 0, 0, 1, 0, 0, 1, 0, 0, 0, 0, 1, 0, 0, 0, 1, 1, 0, 1, 0,\n",
              "        1, 0, 1, 1, 1, 1, 0, 1, 0, 1, 1, 0, 0, 0, 0, 0, 0, 1, 1, 1, 0, 1,\n",
              "        0, 0, 0, 0, 0, 0, 1, 1, 1, 1, 1, 1, 0, 1, 1, 1, 1, 0, 1, 0, 1, 0,\n",
              "        1, 0, 1, 1, 0, 1, 1, 0, 1, 1, 0, 1, 0, 0, 0, 1, 0, 0, 0, 0, 0, 1,\n",
              "        0, 0, 0, 0, 0, 0, 0, 0, 0, 1, 1, 0, 0, 1, 1, 1, 1, 0, 0, 1, 1, 0,\n",
              "        0, 0, 1, 1, 1, 0, 1, 0, 1, 1, 0, 0, 1, 0, 0, 0, 0, 1, 1, 1, 1, 1,\n",
              "        1, 0, 1, 1, 1, 1, 1, 0, 0, 0, 1, 1, 1, 1, 0, 1, 1, 1, 0, 0, 0, 0,\n",
              "        0, 0, 0, 1, 1, 0, 0, 1, 0, 0, 0, 1, 1, 0, 1, 0, 1, 0, 1, 0, 0, 1,\n",
              "        0, 1, 0, 1, 0, 1, 0, 0, 0, 1, 1, 0, 1, 1, 0, 1, 0, 1, 0, 0, 1, 0,\n",
              "        1, 1, 0, 0, 0, 0, 1, 1, 0, 0, 0, 0, 0, 0, 0, 0, 0, 0, 0]),\n",
              " array([1, 1, 0, 1, 1, 1, 1, 0, 1, 1, 0, 0, 1, 0, 1, 0, 0, 1, 1, 0, 0, 1,\n",
              "        1, 1, 0, 0, 1, 0, 0, 0, 1, 0, 0, 0, 1, 0, 0, 0, 1, 1, 1, 0, 1, 0,\n",
              "        1, 1, 0, 1, 0, 1, 1, 0, 0, 0, 0, 1, 0, 0, 1, 1, 1, 1, 1, 1, 0, 1,\n",
              "        0, 1, 1, 0, 1, 1, 1, 0, 0, 0, 0, 0, 1, 0, 1, 0, 0, 0, 0, 0, 1, 1,\n",
              "        0, 0, 1, 0, 0, 0, 1, 1, 1, 0, 1, 1, 0, 1, 1, 0, 0, 1, 1, 0, 1, 1,\n",
              "        1, 0, 0, 1, 0, 0, 1, 1, 0, 0, 0, 1, 1, 0, 1, 1, 0, 0, 0, 0, 0, 1,\n",
              "        0, 1, 1, 1, 0, 1, 0, 0, 1, 1, 0, 1, 1, 1, 0, 0, 0, 0, 0, 0, 0, 1,\n",
              "        0, 1, 1, 1, 1, 1, 0, 1, 1, 0, 0, 1, 0, 1, 0, 0, 1, 1, 0, 0, 0])]"
            ]
          },
          "metadata": {
            "tags": []
          },
          "execution_count": 30
        }
      ]
    },
    {
      "cell_type": "code",
      "metadata": {
        "id": "sI85JLiZlFhV",
        "colab_type": "code",
        "colab": {}
      },
      "source": [
        "x_train, x_test, y_train, y_test = train_test_split(scaled_inputs, targets, #train_size = 0.8, \n",
        "                                                                            test_size = 0.2, random_state = 20)"
      ],
      "execution_count": 31,
      "outputs": []
    },
    {
      "cell_type": "code",
      "metadata": {
        "id": "Ya4Sr0oalFhc",
        "colab_type": "code",
        "colab": {
          "base_uri": "https://localhost:8080/",
          "height": 34
        },
        "outputId": "c4f264fa-3714-40ae-ade0-11cb268555e4"
      },
      "source": [
        "print (x_train.shape, y_train.shape)"
      ],
      "execution_count": 32,
      "outputs": [
        {
          "output_type": "stream",
          "text": [
            "(560, 11) (560,)\n"
          ],
          "name": "stdout"
        }
      ]
    },
    {
      "cell_type": "code",
      "metadata": {
        "id": "qIo5tvJ5lFho",
        "colab_type": "code",
        "colab": {
          "base_uri": "https://localhost:8080/",
          "height": 34
        },
        "outputId": "807cca68-4f43-465f-98d4-eeb1cd4a18fc"
      },
      "source": [
        "print (x_test.shape, y_test.shape)"
      ],
      "execution_count": 33,
      "outputs": [
        {
          "output_type": "stream",
          "text": [
            "(140, 11) (140,)\n"
          ],
          "name": "stdout"
        }
      ]
    },
    {
      "cell_type": "markdown",
      "metadata": {
        "id": "GZ9DdIoSlFhu",
        "colab_type": "text"
      },
      "source": [
        "## Logistic regression with sklearn"
      ]
    },
    {
      "cell_type": "code",
      "metadata": {
        "id": "P3Mv4NPdlFhv",
        "colab_type": "code",
        "colab": {}
      },
      "source": [
        "from sklearn.linear_model import LogisticRegression\n",
        "from sklearn import metrics"
      ],
      "execution_count": 34,
      "outputs": []
    },
    {
      "cell_type": "markdown",
      "metadata": {
        "id": "l4xGwOyjlFh1",
        "colab_type": "text"
      },
      "source": [
        "### Training the model"
      ]
    },
    {
      "cell_type": "code",
      "metadata": {
        "id": "oz68H5tZlFh3",
        "colab_type": "code",
        "colab": {}
      },
      "source": [
        "reg = LogisticRegression()"
      ],
      "execution_count": 35,
      "outputs": []
    },
    {
      "cell_type": "code",
      "metadata": {
        "id": "0M3whofzlFh8",
        "colab_type": "code",
        "colab": {
          "base_uri": "https://localhost:8080/",
          "height": 103
        },
        "outputId": "fe16e448-91e4-4e6b-f421-95790ef6f84d"
      },
      "source": [
        "reg.fit(x_train,y_train)"
      ],
      "execution_count": 36,
      "outputs": [
        {
          "output_type": "execute_result",
          "data": {
            "text/plain": [
              "LogisticRegression(C=1.0, class_weight=None, dual=False, fit_intercept=True,\n",
              "                   intercept_scaling=1, l1_ratio=None, max_iter=100,\n",
              "                   multi_class='auto', n_jobs=None, penalty='l2',\n",
              "                   random_state=None, solver='lbfgs', tol=0.0001, verbose=0,\n",
              "                   warm_start=False)"
            ]
          },
          "metadata": {
            "tags": []
          },
          "execution_count": 36
        }
      ]
    },
    {
      "cell_type": "code",
      "metadata": {
        "id": "2uzm7yxVlFiE",
        "colab_type": "code",
        "colab": {
          "base_uri": "https://localhost:8080/",
          "height": 34
        },
        "outputId": "08cafdd1-b31d-4020-cf09-c4a7f5a07ec6"
      },
      "source": [
        "reg.score(x_train,y_train)"
      ],
      "execution_count": 37,
      "outputs": [
        {
          "output_type": "execute_result",
          "data": {
            "text/plain": [
              "0.7767857142857143"
            ]
          },
          "metadata": {
            "tags": []
          },
          "execution_count": 37
        }
      ]
    },
    {
      "cell_type": "markdown",
      "metadata": {
        "id": "uLJxib1wlFiM",
        "colab_type": "text"
      },
      "source": [
        "### Manually check the accuracy"
      ]
    },
    {
      "cell_type": "code",
      "metadata": {
        "scrolled": true,
        "id": "IoG5-FqolFiN",
        "colab_type": "code",
        "colab": {
          "base_uri": "https://localhost:8080/",
          "height": 465
        },
        "outputId": "14f267a0-4c5e-45ef-c736-214a3713f06f"
      },
      "source": [
        "model_outputs = reg.predict(x_train)\n",
        "model_outputs"
      ],
      "execution_count": 38,
      "outputs": [
        {
          "output_type": "execute_result",
          "data": {
            "text/plain": [
              "array([0, 1, 1, 1, 1, 0, 0, 1, 0, 1, 1, 1, 0, 1, 0, 0, 0, 0, 0, 1, 1, 0,\n",
              "       0, 0, 0, 0, 0, 1, 1, 0, 0, 1, 0, 1, 0, 0, 1, 0, 0, 0, 1, 0, 1, 1,\n",
              "       0, 0, 0, 0, 1, 1, 0, 1, 0, 0, 0, 1, 1, 0, 0, 0, 0, 0, 1, 0, 0, 0,\n",
              "       0, 0, 0, 0, 0, 1, 1, 0, 0, 0, 1, 0, 0, 1, 1, 1, 0, 0, 0, 1, 1, 0,\n",
              "       0, 1, 0, 0, 1, 0, 0, 0, 0, 1, 0, 1, 1, 1, 1, 0, 1, 1, 0, 0, 1, 0,\n",
              "       0, 1, 0, 1, 1, 0, 0, 0, 1, 1, 1, 1, 1, 0, 0, 1, 0, 1, 0, 0, 1, 0,\n",
              "       0, 0, 0, 0, 1, 0, 0, 0, 0, 0, 1, 1, 1, 0, 0, 1, 0, 1, 0, 0, 1, 0,\n",
              "       1, 1, 0, 1, 0, 1, 1, 0, 1, 0, 0, 1, 1, 0, 1, 1, 0, 0, 0, 0, 1, 0,\n",
              "       0, 0, 0, 0, 1, 0, 0, 1, 1, 0, 0, 1, 0, 0, 1, 1, 1, 0, 0, 0, 0, 1,\n",
              "       1, 0, 0, 1, 1, 1, 1, 0, 1, 0, 0, 0, 1, 1, 1, 0, 0, 0, 0, 0, 0, 1,\n",
              "       1, 0, 0, 0, 1, 0, 0, 1, 1, 0, 0, 1, 1, 0, 0, 1, 1, 0, 0, 0, 0, 1,\n",
              "       0, 0, 1, 0, 1, 1, 1, 0, 1, 0, 1, 0, 1, 0, 1, 1, 0, 1, 1, 1, 1, 1,\n",
              "       0, 0, 0, 0, 0, 0, 1, 1, 0, 0, 1, 0, 1, 1, 0, 1, 0, 0, 1, 0, 1, 0,\n",
              "       0, 0, 0, 0, 0, 0, 0, 1, 1, 1, 1, 1, 1, 1, 0, 0, 0, 0, 0, 1, 0, 0,\n",
              "       0, 0, 0, 0, 1, 0, 1, 0, 1, 1, 0, 0, 0, 0, 1, 1, 1, 1, 0, 0, 1, 1,\n",
              "       1, 0, 1, 0, 0, 1, 0, 0, 0, 0, 0, 0, 0, 0, 0, 1, 1, 1, 0, 0, 0, 1,\n",
              "       0, 0, 1, 0, 1, 1, 0, 0, 1, 0, 1, 1, 1, 0, 0, 0, 0, 1, 1, 1, 0, 0,\n",
              "       1, 1, 1, 1, 0, 0, 1, 1, 0, 1, 0, 1, 1, 1, 0, 1, 0, 1, 1, 0, 0, 0,\n",
              "       0, 0, 0, 0, 0, 1, 1, 0, 1, 1, 0, 1, 0, 0, 0, 1, 1, 0, 0, 1, 1, 0,\n",
              "       0, 0, 0, 1, 1, 0, 1, 0, 0, 1, 0, 0, 1, 0, 1, 1, 1, 0, 0, 1, 1, 0,\n",
              "       0, 0, 0, 0, 0, 0, 0, 0, 1, 1, 1, 1, 1, 0, 1, 1, 0, 0, 0, 0, 0, 0,\n",
              "       1, 1, 0, 0, 0, 0, 1, 0, 0, 0, 1, 0, 1, 1, 0, 0, 1, 0, 0, 1, 0, 0,\n",
              "       0, 0, 0, 0, 0, 1, 0, 0, 1, 0, 0, 0, 0, 1, 0, 0, 1, 0, 1, 0, 0, 0,\n",
              "       0, 1, 1, 0, 1, 0, 0, 0, 1, 1, 1, 1, 0, 0, 1, 1, 0, 0, 1, 0, 1, 1,\n",
              "       0, 1, 1, 0, 1, 1, 1, 0, 0, 0, 1, 1, 1, 0, 1, 1, 0, 1, 1, 0, 0, 0,\n",
              "       0, 1, 0, 1, 1, 1, 0, 0, 0, 0])"
            ]
          },
          "metadata": {
            "tags": []
          },
          "execution_count": 38
        }
      ]
    },
    {
      "cell_type": "code",
      "metadata": {
        "id": "z2hCFGyRlFiR",
        "colab_type": "code",
        "colab": {
          "base_uri": "https://localhost:8080/",
          "height": 465
        },
        "outputId": "b7ef1374-6725-42eb-b2bd-40b214b6c576"
      },
      "source": [
        "y_train"
      ],
      "execution_count": 39,
      "outputs": [
        {
          "output_type": "execute_result",
          "data": {
            "text/plain": [
              "array([0, 1, 1, 1, 1, 0, 0, 1, 0, 1, 0, 1, 1, 0, 0, 0, 0, 0, 1, 1, 0, 0,\n",
              "       1, 1, 0, 0, 0, 0, 1, 0, 0, 1, 0, 1, 0, 0, 0, 1, 1, 1, 1, 0, 1, 1,\n",
              "       1, 0, 0, 0, 1, 1, 1, 1, 0, 0, 0, 1, 1, 0, 0, 1, 0, 0, 1, 0, 0, 0,\n",
              "       0, 0, 0, 1, 0, 1, 1, 0, 0, 1, 1, 0, 0, 1, 1, 0, 0, 1, 0, 1, 0, 1,\n",
              "       1, 1, 0, 0, 1, 0, 0, 0, 0, 0, 0, 1, 1, 1, 1, 0, 1, 1, 0, 0, 1, 0,\n",
              "       0, 1, 1, 1, 1, 0, 0, 1, 1, 1, 1, 1, 0, 0, 0, 1, 0, 1, 0, 0, 1, 1,\n",
              "       0, 0, 0, 0, 0, 0, 0, 0, 0, 0, 1, 0, 1, 1, 0, 0, 0, 1, 0, 0, 0, 1,\n",
              "       0, 1, 0, 0, 0, 1, 1, 0, 1, 1, 0, 0, 1, 1, 1, 0, 0, 0, 0, 0, 1, 0,\n",
              "       0, 0, 0, 0, 1, 0, 0, 1, 1, 1, 0, 1, 0, 0, 0, 1, 1, 0, 0, 0, 0, 1,\n",
              "       1, 0, 0, 1, 1, 1, 0, 0, 0, 1, 0, 0, 1, 1, 1, 0, 0, 1, 0, 1, 0, 0,\n",
              "       1, 0, 0, 0, 0, 0, 1, 0, 1, 0, 0, 1, 1, 1, 1, 0, 1, 1, 0, 0, 0, 0,\n",
              "       0, 0, 1, 0, 1, 1, 1, 1, 1, 0, 1, 0, 1, 0, 1, 1, 1, 1, 1, 1, 0, 0,\n",
              "       0, 0, 0, 0, 0, 0, 0, 1, 0, 0, 1, 0, 1, 0, 1, 0, 0, 0, 1, 0, 0, 0,\n",
              "       1, 0, 1, 0, 0, 0, 0, 1, 0, 1, 0, 0, 1, 1, 0, 0, 0, 1, 0, 1, 0, 0,\n",
              "       0, 1, 0, 1, 1, 0, 1, 0, 1, 1, 0, 0, 1, 0, 1, 0, 0, 1, 0, 0, 1, 1,\n",
              "       1, 0, 0, 0, 0, 1, 1, 1, 0, 0, 0, 1, 0, 1, 0, 1, 1, 1, 0, 0, 0, 1,\n",
              "       0, 0, 1, 0, 1, 1, 0, 0, 0, 0, 1, 0, 1, 1, 0, 0, 0, 1, 1, 1, 0, 0,\n",
              "       1, 1, 1, 1, 0, 0, 1, 0, 0, 1, 0, 0, 1, 1, 1, 1, 1, 1, 1, 0, 1, 0,\n",
              "       0, 0, 0, 0, 0, 0, 1, 0, 1, 1, 0, 1, 0, 0, 0, 1, 1, 0, 0, 1, 1, 1,\n",
              "       0, 1, 0, 1, 0, 0, 1, 0, 1, 1, 0, 1, 1, 1, 1, 1, 1, 0, 0, 0, 0, 0,\n",
              "       0, 0, 0, 1, 0, 0, 0, 0, 0, 1, 0, 1, 1, 0, 0, 0, 0, 0, 0, 0, 1, 0,\n",
              "       1, 1, 0, 0, 0, 0, 1, 0, 1, 0, 1, 1, 0, 1, 0, 1, 1, 0, 0, 1, 0, 0,\n",
              "       1, 1, 0, 0, 1, 1, 0, 0, 1, 1, 0, 0, 0, 1, 0, 1, 1, 0, 1, 0, 0, 1,\n",
              "       0, 1, 0, 0, 1, 0, 0, 1, 1, 1, 1, 1, 0, 1, 1, 1, 1, 1, 0, 0, 1, 0,\n",
              "       0, 1, 1, 1, 1, 1, 1, 0, 0, 0, 1, 1, 1, 1, 1, 1, 0, 1, 1, 0, 0, 0,\n",
              "       0, 0, 0, 1, 1, 1, 1, 0, 1, 0])"
            ]
          },
          "metadata": {
            "tags": []
          },
          "execution_count": 39
        }
      ]
    },
    {
      "cell_type": "code",
      "metadata": {
        "scrolled": true,
        "id": "Nk5PYzdTlFiW",
        "colab_type": "code",
        "colab": {
          "base_uri": "https://localhost:8080/",
          "height": 1000
        },
        "outputId": "7f7ebdd0-686e-4147-ca62-14fee42b02fa"
      },
      "source": [
        "model_outputs == y_train"
      ],
      "execution_count": 40,
      "outputs": [
        {
          "output_type": "execute_result",
          "data": {
            "text/plain": [
              "array([ True,  True,  True,  True,  True,  True,  True,  True,  True,\n",
              "        True, False,  True, False, False,  True,  True,  True,  True,\n",
              "       False,  True, False,  True, False, False,  True,  True,  True,\n",
              "       False,  True,  True,  True,  True,  True,  True,  True,  True,\n",
              "       False, False, False, False,  True,  True,  True,  True, False,\n",
              "        True,  True,  True,  True,  True, False,  True,  True,  True,\n",
              "        True,  True,  True,  True,  True, False,  True,  True,  True,\n",
              "        True,  True,  True,  True,  True,  True, False,  True,  True,\n",
              "        True,  True,  True, False,  True,  True,  True,  True,  True,\n",
              "       False,  True, False,  True,  True, False, False, False,  True,\n",
              "        True,  True,  True,  True,  True,  True,  True, False,  True,\n",
              "        True,  True,  True,  True,  True,  True,  True,  True,  True,\n",
              "        True,  True,  True,  True, False,  True,  True,  True,  True,\n",
              "       False,  True,  True,  True,  True, False,  True,  True,  True,\n",
              "        True,  True,  True,  True,  True, False,  True,  True,  True,\n",
              "        True, False,  True,  True,  True,  True,  True,  True, False,\n",
              "        True, False,  True, False,  True,  True,  True,  True, False,\n",
              "       False, False,  True,  True, False,  True,  True,  True,  True,\n",
              "        True, False,  True, False,  True, False,  True, False,  True,\n",
              "        True,  True,  True,  True,  True,  True,  True,  True,  True,\n",
              "        True,  True,  True,  True,  True, False,  True,  True,  True,\n",
              "        True, False,  True,  True,  True,  True,  True,  True,  True,\n",
              "        True,  True,  True,  True,  True,  True, False,  True, False,\n",
              "       False,  True,  True,  True,  True,  True,  True,  True, False,\n",
              "        True, False,  True, False,  True,  True,  True,  True, False,\n",
              "        True, False, False,  True,  True,  True,  True,  True, False,\n",
              "       False, False,  True, False,  True,  True,  True, False,  True,\n",
              "        True,  True,  True,  True,  True,  True, False,  True,  True,\n",
              "        True,  True,  True,  True,  True,  True, False,  True,  True,\n",
              "        True, False, False,  True,  True,  True,  True,  True,  True,\n",
              "       False,  True,  True,  True,  True,  True,  True, False, False,\n",
              "       False,  True,  True,  True,  True, False,  True, False,  True,\n",
              "       False,  True,  True,  True,  True,  True, False,  True, False,\n",
              "       False,  True,  True,  True,  True,  True, False,  True,  True,\n",
              "        True,  True,  True, False,  True, False,  True,  True,  True,\n",
              "        True,  True,  True,  True,  True, False,  True,  True, False,\n",
              "       False,  True,  True,  True,  True,  True,  True,  True, False,\n",
              "        True,  True,  True, False, False,  True,  True,  True, False,\n",
              "        True, False,  True,  True,  True,  True,  True,  True,  True,\n",
              "        True,  True,  True,  True,  True,  True,  True,  True,  True,\n",
              "       False,  True,  True, False,  True, False,  True,  True,  True,\n",
              "        True,  True,  True,  True,  True,  True,  True,  True,  True,\n",
              "        True,  True,  True, False,  True,  True,  True, False,  True,\n",
              "        True, False,  True, False,  True,  True,  True, False,  True,\n",
              "        True,  True,  True,  True,  True, False,  True,  True,  True,\n",
              "        True,  True,  True,  True,  True,  True,  True,  True,  True,\n",
              "        True,  True,  True, False,  True, False,  True,  True, False,\n",
              "        True,  True,  True, False,  True,  True, False,  True, False,\n",
              "        True,  True,  True,  True,  True, False, False,  True,  True,\n",
              "        True,  True, False,  True,  True,  True,  True, False,  True,\n",
              "       False,  True,  True,  True, False, False,  True,  True,  True,\n",
              "        True, False,  True,  True,  True,  True,  True,  True,  True,\n",
              "        True,  True, False,  True,  True, False, False,  True,  True,\n",
              "       False,  True,  True,  True,  True,  True,  True, False, False,\n",
              "        True,  True, False,  True,  True,  True,  True, False,  True,\n",
              "        True,  True,  True,  True, False,  True,  True,  True,  True,\n",
              "        True, False,  True,  True, False,  True,  True,  True,  True,\n",
              "       False,  True,  True,  True,  True,  True, False,  True,  True,\n",
              "       False, False, False,  True,  True, False,  True,  True,  True,\n",
              "       False,  True,  True,  True,  True,  True,  True,  True,  True,\n",
              "        True, False,  True,  True,  True,  True,  True,  True,  True,\n",
              "        True,  True, False,  True,  True,  True,  True, False,  True,\n",
              "       False,  True])"
            ]
          },
          "metadata": {
            "tags": []
          },
          "execution_count": 40
        }
      ]
    },
    {
      "cell_type": "code",
      "metadata": {
        "id": "7NyZhGprlFic",
        "colab_type": "code",
        "colab": {
          "base_uri": "https://localhost:8080/",
          "height": 34
        },
        "outputId": "e4515a29-7888-4938-b057-ed84a77a84d5"
      },
      "source": [
        "np.sum((model_outputs==y_train))"
      ],
      "execution_count": 41,
      "outputs": [
        {
          "output_type": "execute_result",
          "data": {
            "text/plain": [
              "435"
            ]
          },
          "metadata": {
            "tags": []
          },
          "execution_count": 41
        }
      ]
    },
    {
      "cell_type": "code",
      "metadata": {
        "id": "rS6YbAeylFik",
        "colab_type": "code",
        "colab": {
          "base_uri": "https://localhost:8080/",
          "height": 34
        },
        "outputId": "12b5c69c-904c-4796-b068-36eac92312be"
      },
      "source": [
        "model_outputs.shape[0]"
      ],
      "execution_count": 42,
      "outputs": [
        {
          "output_type": "execute_result",
          "data": {
            "text/plain": [
              "560"
            ]
          },
          "metadata": {
            "tags": []
          },
          "execution_count": 42
        }
      ]
    },
    {
      "cell_type": "code",
      "metadata": {
        "id": "PkzCXUfAlFir",
        "colab_type": "code",
        "colab": {
          "base_uri": "https://localhost:8080/",
          "height": 34
        },
        "outputId": "3cebd745-1cbd-4a0c-8694-ee44fb8c7375"
      },
      "source": [
        "np.sum((model_outputs==y_train)) / model_outputs.shape[0]"
      ],
      "execution_count": 43,
      "outputs": [
        {
          "output_type": "execute_result",
          "data": {
            "text/plain": [
              "0.7767857142857143"
            ]
          },
          "metadata": {
            "tags": []
          },
          "execution_count": 43
        }
      ]
    },
    {
      "cell_type": "markdown",
      "metadata": {
        "id": "Sqf1dpknlFi0",
        "colab_type": "text"
      },
      "source": [
        "### Finding the intercept and coefficients"
      ]
    },
    {
      "cell_type": "code",
      "metadata": {
        "id": "vh6kMtO7lFi1",
        "colab_type": "code",
        "colab": {
          "base_uri": "https://localhost:8080/",
          "height": 34
        },
        "outputId": "60736034-ee4b-4491-ed6f-d7565595506c"
      },
      "source": [
        "reg.intercept_"
      ],
      "execution_count": 44,
      "outputs": [
        {
          "output_type": "execute_result",
          "data": {
            "text/plain": [
              "array([-1.60957471])"
            ]
          },
          "metadata": {
            "tags": []
          },
          "execution_count": 44
        }
      ]
    },
    {
      "cell_type": "code",
      "metadata": {
        "id": "eIE_Psq0lFi9",
        "colab_type": "code",
        "colab": {
          "base_uri": "https://localhost:8080/",
          "height": 69
        },
        "outputId": "d46bd03e-8777-4aee-cb4c-bc31ab93456b"
      },
      "source": [
        "reg.coef_"
      ],
      "execution_count": 45,
      "outputs": [
        {
          "output_type": "execute_result",
          "data": {
            "text/plain": [
              "array([[ 2.77151176,  0.93168817,  3.09210221,  0.8090592 ,  0.00781237,\n",
              "         0.62505482, -0.17390339,  0.28829409, -0.24081615,  0.35753531,\n",
              "        -0.27337422]])"
            ]
          },
          "metadata": {
            "tags": []
          },
          "execution_count": 45
        }
      ]
    },
    {
      "cell_type": "code",
      "metadata": {
        "id": "eCcPtlb_lFjJ",
        "colab_type": "code",
        "colab": {
          "base_uri": "https://localhost:8080/",
          "height": 69
        },
        "outputId": "9d80f465-a53d-4877-dd51-cb13d2f9f744"
      },
      "source": [
        "unscaled_inputs.columns.values"
      ],
      "execution_count": 46,
      "outputs": [
        {
          "output_type": "execute_result",
          "data": {
            "text/plain": [
              "array(['Reason_1', 'Reason_2', 'Reason_3', 'Reason_4', 'Month Value',\n",
              "       'Transportation Expense', 'Age', 'Body Mass Index', 'Education',\n",
              "       'Children', 'Pet'], dtype=object)"
            ]
          },
          "metadata": {
            "tags": []
          },
          "execution_count": 46
        }
      ]
    },
    {
      "cell_type": "code",
      "metadata": {
        "id": "Wvw6Mtm2lFjP",
        "colab_type": "code",
        "colab": {}
      },
      "source": [
        "feature_name = unscaled_inputs.columns.values"
      ],
      "execution_count": 47,
      "outputs": []
    },
    {
      "cell_type": "code",
      "metadata": {
        "id": "iuXzZ1bwlFjV",
        "colab_type": "code",
        "colab": {
          "base_uri": "https://localhost:8080/",
          "height": 384
        },
        "outputId": "f05e29b1-462a-41dc-9dc4-ca7b97fd656b"
      },
      "source": [
        "summary_table = pd.DataFrame (columns=['Feature name'], data = feature_name)\n",
        "\n",
        "summary_table['Coefficient'] = np.transpose(reg.coef_)\n",
        "\n",
        "summary_table"
      ],
      "execution_count": 48,
      "outputs": [
        {
          "output_type": "execute_result",
          "data": {
            "text/html": [
              "<div>\n",
              "<style scoped>\n",
              "    .dataframe tbody tr th:only-of-type {\n",
              "        vertical-align: middle;\n",
              "    }\n",
              "\n",
              "    .dataframe tbody tr th {\n",
              "        vertical-align: top;\n",
              "    }\n",
              "\n",
              "    .dataframe thead th {\n",
              "        text-align: right;\n",
              "    }\n",
              "</style>\n",
              "<table border=\"1\" class=\"dataframe\">\n",
              "  <thead>\n",
              "    <tr style=\"text-align: right;\">\n",
              "      <th></th>\n",
              "      <th>Feature name</th>\n",
              "      <th>Coefficient</th>\n",
              "    </tr>\n",
              "  </thead>\n",
              "  <tbody>\n",
              "    <tr>\n",
              "      <th>0</th>\n",
              "      <td>Reason_1</td>\n",
              "      <td>2.771512</td>\n",
              "    </tr>\n",
              "    <tr>\n",
              "      <th>1</th>\n",
              "      <td>Reason_2</td>\n",
              "      <td>0.931688</td>\n",
              "    </tr>\n",
              "    <tr>\n",
              "      <th>2</th>\n",
              "      <td>Reason_3</td>\n",
              "      <td>3.092102</td>\n",
              "    </tr>\n",
              "    <tr>\n",
              "      <th>3</th>\n",
              "      <td>Reason_4</td>\n",
              "      <td>0.809059</td>\n",
              "    </tr>\n",
              "    <tr>\n",
              "      <th>4</th>\n",
              "      <td>Month Value</td>\n",
              "      <td>0.007812</td>\n",
              "    </tr>\n",
              "    <tr>\n",
              "      <th>5</th>\n",
              "      <td>Transportation Expense</td>\n",
              "      <td>0.625055</td>\n",
              "    </tr>\n",
              "    <tr>\n",
              "      <th>6</th>\n",
              "      <td>Age</td>\n",
              "      <td>-0.173903</td>\n",
              "    </tr>\n",
              "    <tr>\n",
              "      <th>7</th>\n",
              "      <td>Body Mass Index</td>\n",
              "      <td>0.288294</td>\n",
              "    </tr>\n",
              "    <tr>\n",
              "      <th>8</th>\n",
              "      <td>Education</td>\n",
              "      <td>-0.240816</td>\n",
              "    </tr>\n",
              "    <tr>\n",
              "      <th>9</th>\n",
              "      <td>Children</td>\n",
              "      <td>0.357535</td>\n",
              "    </tr>\n",
              "    <tr>\n",
              "      <th>10</th>\n",
              "      <td>Pet</td>\n",
              "      <td>-0.273374</td>\n",
              "    </tr>\n",
              "  </tbody>\n",
              "</table>\n",
              "</div>"
            ],
            "text/plain": [
              "              Feature name  Coefficient\n",
              "0                 Reason_1     2.771512\n",
              "1                 Reason_2     0.931688\n",
              "2                 Reason_3     3.092102\n",
              "3                 Reason_4     0.809059\n",
              "4              Month Value     0.007812\n",
              "5   Transportation Expense     0.625055\n",
              "6                      Age    -0.173903\n",
              "7          Body Mass Index     0.288294\n",
              "8                Education    -0.240816\n",
              "9                 Children     0.357535\n",
              "10                     Pet    -0.273374"
            ]
          },
          "metadata": {
            "tags": []
          },
          "execution_count": 48
        }
      ]
    },
    {
      "cell_type": "code",
      "metadata": {
        "scrolled": true,
        "id": "q6wPNhWPlFjf",
        "colab_type": "code",
        "colab": {
          "base_uri": "https://localhost:8080/",
          "height": 415
        },
        "outputId": "059855f1-551b-4473-b469-e6c747762fcc"
      },
      "source": [
        "summary_table.index = summary_table.index + 1\n",
        "summary_table.loc[0] = ['Intercept', reg.intercept_[0]]\n",
        "summary_table = summary_table.sort_index()\n",
        "summary_table"
      ],
      "execution_count": 49,
      "outputs": [
        {
          "output_type": "execute_result",
          "data": {
            "text/html": [
              "<div>\n",
              "<style scoped>\n",
              "    .dataframe tbody tr th:only-of-type {\n",
              "        vertical-align: middle;\n",
              "    }\n",
              "\n",
              "    .dataframe tbody tr th {\n",
              "        vertical-align: top;\n",
              "    }\n",
              "\n",
              "    .dataframe thead th {\n",
              "        text-align: right;\n",
              "    }\n",
              "</style>\n",
              "<table border=\"1\" class=\"dataframe\">\n",
              "  <thead>\n",
              "    <tr style=\"text-align: right;\">\n",
              "      <th></th>\n",
              "      <th>Feature name</th>\n",
              "      <th>Coefficient</th>\n",
              "    </tr>\n",
              "  </thead>\n",
              "  <tbody>\n",
              "    <tr>\n",
              "      <th>0</th>\n",
              "      <td>Intercept</td>\n",
              "      <td>-1.609575</td>\n",
              "    </tr>\n",
              "    <tr>\n",
              "      <th>1</th>\n",
              "      <td>Reason_1</td>\n",
              "      <td>2.771512</td>\n",
              "    </tr>\n",
              "    <tr>\n",
              "      <th>2</th>\n",
              "      <td>Reason_2</td>\n",
              "      <td>0.931688</td>\n",
              "    </tr>\n",
              "    <tr>\n",
              "      <th>3</th>\n",
              "      <td>Reason_3</td>\n",
              "      <td>3.092102</td>\n",
              "    </tr>\n",
              "    <tr>\n",
              "      <th>4</th>\n",
              "      <td>Reason_4</td>\n",
              "      <td>0.809059</td>\n",
              "    </tr>\n",
              "    <tr>\n",
              "      <th>5</th>\n",
              "      <td>Month Value</td>\n",
              "      <td>0.007812</td>\n",
              "    </tr>\n",
              "    <tr>\n",
              "      <th>6</th>\n",
              "      <td>Transportation Expense</td>\n",
              "      <td>0.625055</td>\n",
              "    </tr>\n",
              "    <tr>\n",
              "      <th>7</th>\n",
              "      <td>Age</td>\n",
              "      <td>-0.173903</td>\n",
              "    </tr>\n",
              "    <tr>\n",
              "      <th>8</th>\n",
              "      <td>Body Mass Index</td>\n",
              "      <td>0.288294</td>\n",
              "    </tr>\n",
              "    <tr>\n",
              "      <th>9</th>\n",
              "      <td>Education</td>\n",
              "      <td>-0.240816</td>\n",
              "    </tr>\n",
              "    <tr>\n",
              "      <th>10</th>\n",
              "      <td>Children</td>\n",
              "      <td>0.357535</td>\n",
              "    </tr>\n",
              "    <tr>\n",
              "      <th>11</th>\n",
              "      <td>Pet</td>\n",
              "      <td>-0.273374</td>\n",
              "    </tr>\n",
              "  </tbody>\n",
              "</table>\n",
              "</div>"
            ],
            "text/plain": [
              "              Feature name  Coefficient\n",
              "0                Intercept    -1.609575\n",
              "1                 Reason_1     2.771512\n",
              "2                 Reason_2     0.931688\n",
              "3                 Reason_3     3.092102\n",
              "4                 Reason_4     0.809059\n",
              "5              Month Value     0.007812\n",
              "6   Transportation Expense     0.625055\n",
              "7                      Age    -0.173903\n",
              "8          Body Mass Index     0.288294\n",
              "9                Education    -0.240816\n",
              "10                Children     0.357535\n",
              "11                     Pet    -0.273374"
            ]
          },
          "metadata": {
            "tags": []
          },
          "execution_count": 49
        }
      ]
    },
    {
      "cell_type": "markdown",
      "metadata": {
        "id": "dcqX9X-RlFjm",
        "colab_type": "text"
      },
      "source": [
        "## Interpreting the coefficients"
      ]
    },
    {
      "cell_type": "code",
      "metadata": {
        "id": "u-Zx4gF9lFjo",
        "colab_type": "code",
        "colab": {}
      },
      "source": [
        "summary_table['Odds_ratio'] = np.exp(summary_table.Coefficient)"
      ],
      "execution_count": 50,
      "outputs": []
    },
    {
      "cell_type": "code",
      "metadata": {
        "id": "K3ooke5BlFjv",
        "colab_type": "code",
        "colab": {
          "base_uri": "https://localhost:8080/",
          "height": 415
        },
        "outputId": "924781f1-3a5e-44b8-8b99-83cdac556908"
      },
      "source": [
        "summary_table"
      ],
      "execution_count": 51,
      "outputs": [
        {
          "output_type": "execute_result",
          "data": {
            "text/html": [
              "<div>\n",
              "<style scoped>\n",
              "    .dataframe tbody tr th:only-of-type {\n",
              "        vertical-align: middle;\n",
              "    }\n",
              "\n",
              "    .dataframe tbody tr th {\n",
              "        vertical-align: top;\n",
              "    }\n",
              "\n",
              "    .dataframe thead th {\n",
              "        text-align: right;\n",
              "    }\n",
              "</style>\n",
              "<table border=\"1\" class=\"dataframe\">\n",
              "  <thead>\n",
              "    <tr style=\"text-align: right;\">\n",
              "      <th></th>\n",
              "      <th>Feature name</th>\n",
              "      <th>Coefficient</th>\n",
              "      <th>Odds_ratio</th>\n",
              "    </tr>\n",
              "  </thead>\n",
              "  <tbody>\n",
              "    <tr>\n",
              "      <th>0</th>\n",
              "      <td>Intercept</td>\n",
              "      <td>-1.609575</td>\n",
              "      <td>0.199973</td>\n",
              "    </tr>\n",
              "    <tr>\n",
              "      <th>1</th>\n",
              "      <td>Reason_1</td>\n",
              "      <td>2.771512</td>\n",
              "      <td>15.982778</td>\n",
              "    </tr>\n",
              "    <tr>\n",
              "      <th>2</th>\n",
              "      <td>Reason_2</td>\n",
              "      <td>0.931688</td>\n",
              "      <td>2.538791</td>\n",
              "    </tr>\n",
              "    <tr>\n",
              "      <th>3</th>\n",
              "      <td>Reason_3</td>\n",
              "      <td>3.092102</td>\n",
              "      <td>22.023327</td>\n",
              "    </tr>\n",
              "    <tr>\n",
              "      <th>4</th>\n",
              "      <td>Reason_4</td>\n",
              "      <td>0.809059</td>\n",
              "      <td>2.245794</td>\n",
              "    </tr>\n",
              "    <tr>\n",
              "      <th>5</th>\n",
              "      <td>Month Value</td>\n",
              "      <td>0.007812</td>\n",
              "      <td>1.007843</td>\n",
              "    </tr>\n",
              "    <tr>\n",
              "      <th>6</th>\n",
              "      <td>Transportation Expense</td>\n",
              "      <td>0.625055</td>\n",
              "      <td>1.868348</td>\n",
              "    </tr>\n",
              "    <tr>\n",
              "      <th>7</th>\n",
              "      <td>Age</td>\n",
              "      <td>-0.173903</td>\n",
              "      <td>0.840378</td>\n",
              "    </tr>\n",
              "    <tr>\n",
              "      <th>8</th>\n",
              "      <td>Body Mass Index</td>\n",
              "      <td>0.288294</td>\n",
              "      <td>1.334150</td>\n",
              "    </tr>\n",
              "    <tr>\n",
              "      <th>9</th>\n",
              "      <td>Education</td>\n",
              "      <td>-0.240816</td>\n",
              "      <td>0.785986</td>\n",
              "    </tr>\n",
              "    <tr>\n",
              "      <th>10</th>\n",
              "      <td>Children</td>\n",
              "      <td>0.357535</td>\n",
              "      <td>1.429801</td>\n",
              "    </tr>\n",
              "    <tr>\n",
              "      <th>11</th>\n",
              "      <td>Pet</td>\n",
              "      <td>-0.273374</td>\n",
              "      <td>0.760808</td>\n",
              "    </tr>\n",
              "  </tbody>\n",
              "</table>\n",
              "</div>"
            ],
            "text/plain": [
              "              Feature name  Coefficient  Odds_ratio\n",
              "0                Intercept    -1.609575    0.199973\n",
              "1                 Reason_1     2.771512   15.982778\n",
              "2                 Reason_2     0.931688    2.538791\n",
              "3                 Reason_3     3.092102   22.023327\n",
              "4                 Reason_4     0.809059    2.245794\n",
              "5              Month Value     0.007812    1.007843\n",
              "6   Transportation Expense     0.625055    1.868348\n",
              "7                      Age    -0.173903    0.840378\n",
              "8          Body Mass Index     0.288294    1.334150\n",
              "9                Education    -0.240816    0.785986\n",
              "10                Children     0.357535    1.429801\n",
              "11                     Pet    -0.273374    0.760808"
            ]
          },
          "metadata": {
            "tags": []
          },
          "execution_count": 51
        }
      ]
    },
    {
      "cell_type": "code",
      "metadata": {
        "id": "yAeeUqDClFjz",
        "colab_type": "code",
        "colab": {
          "base_uri": "https://localhost:8080/",
          "height": 415
        },
        "outputId": "9fef7edc-4977-4c02-b7f9-a76cefca57ec"
      },
      "source": [
        "summary_table.sort_values('Odds_ratio', ascending=False)"
      ],
      "execution_count": 52,
      "outputs": [
        {
          "output_type": "execute_result",
          "data": {
            "text/html": [
              "<div>\n",
              "<style scoped>\n",
              "    .dataframe tbody tr th:only-of-type {\n",
              "        vertical-align: middle;\n",
              "    }\n",
              "\n",
              "    .dataframe tbody tr th {\n",
              "        vertical-align: top;\n",
              "    }\n",
              "\n",
              "    .dataframe thead th {\n",
              "        text-align: right;\n",
              "    }\n",
              "</style>\n",
              "<table border=\"1\" class=\"dataframe\">\n",
              "  <thead>\n",
              "    <tr style=\"text-align: right;\">\n",
              "      <th></th>\n",
              "      <th>Feature name</th>\n",
              "      <th>Coefficient</th>\n",
              "      <th>Odds_ratio</th>\n",
              "    </tr>\n",
              "  </thead>\n",
              "  <tbody>\n",
              "    <tr>\n",
              "      <th>3</th>\n",
              "      <td>Reason_3</td>\n",
              "      <td>3.092102</td>\n",
              "      <td>22.023327</td>\n",
              "    </tr>\n",
              "    <tr>\n",
              "      <th>1</th>\n",
              "      <td>Reason_1</td>\n",
              "      <td>2.771512</td>\n",
              "      <td>15.982778</td>\n",
              "    </tr>\n",
              "    <tr>\n",
              "      <th>2</th>\n",
              "      <td>Reason_2</td>\n",
              "      <td>0.931688</td>\n",
              "      <td>2.538791</td>\n",
              "    </tr>\n",
              "    <tr>\n",
              "      <th>4</th>\n",
              "      <td>Reason_4</td>\n",
              "      <td>0.809059</td>\n",
              "      <td>2.245794</td>\n",
              "    </tr>\n",
              "    <tr>\n",
              "      <th>6</th>\n",
              "      <td>Transportation Expense</td>\n",
              "      <td>0.625055</td>\n",
              "      <td>1.868348</td>\n",
              "    </tr>\n",
              "    <tr>\n",
              "      <th>10</th>\n",
              "      <td>Children</td>\n",
              "      <td>0.357535</td>\n",
              "      <td>1.429801</td>\n",
              "    </tr>\n",
              "    <tr>\n",
              "      <th>8</th>\n",
              "      <td>Body Mass Index</td>\n",
              "      <td>0.288294</td>\n",
              "      <td>1.334150</td>\n",
              "    </tr>\n",
              "    <tr>\n",
              "      <th>5</th>\n",
              "      <td>Month Value</td>\n",
              "      <td>0.007812</td>\n",
              "      <td>1.007843</td>\n",
              "    </tr>\n",
              "    <tr>\n",
              "      <th>7</th>\n",
              "      <td>Age</td>\n",
              "      <td>-0.173903</td>\n",
              "      <td>0.840378</td>\n",
              "    </tr>\n",
              "    <tr>\n",
              "      <th>9</th>\n",
              "      <td>Education</td>\n",
              "      <td>-0.240816</td>\n",
              "      <td>0.785986</td>\n",
              "    </tr>\n",
              "    <tr>\n",
              "      <th>11</th>\n",
              "      <td>Pet</td>\n",
              "      <td>-0.273374</td>\n",
              "      <td>0.760808</td>\n",
              "    </tr>\n",
              "    <tr>\n",
              "      <th>0</th>\n",
              "      <td>Intercept</td>\n",
              "      <td>-1.609575</td>\n",
              "      <td>0.199973</td>\n",
              "    </tr>\n",
              "  </tbody>\n",
              "</table>\n",
              "</div>"
            ],
            "text/plain": [
              "              Feature name  Coefficient  Odds_ratio\n",
              "3                 Reason_3     3.092102   22.023327\n",
              "1                 Reason_1     2.771512   15.982778\n",
              "2                 Reason_2     0.931688    2.538791\n",
              "4                 Reason_4     0.809059    2.245794\n",
              "6   Transportation Expense     0.625055    1.868348\n",
              "10                Children     0.357535    1.429801\n",
              "8          Body Mass Index     0.288294    1.334150\n",
              "5              Month Value     0.007812    1.007843\n",
              "7                      Age    -0.173903    0.840378\n",
              "9                Education    -0.240816    0.785986\n",
              "11                     Pet    -0.273374    0.760808\n",
              "0                Intercept    -1.609575    0.199973"
            ]
          },
          "metadata": {
            "tags": []
          },
          "execution_count": 52
        }
      ]
    },
    {
      "cell_type": "markdown",
      "metadata": {
        "id": "IxRDYa_SlFkC",
        "colab_type": "text"
      },
      "source": [
        "## Testing the model"
      ]
    },
    {
      "cell_type": "code",
      "metadata": {
        "id": "UNdqBrCMlFkD",
        "colab_type": "code",
        "colab": {
          "base_uri": "https://localhost:8080/",
          "height": 34
        },
        "outputId": "4a4a943f-c8d7-474b-cff2-977f23ac5d4b"
      },
      "source": [
        "reg.score(x_test,y_test)"
      ],
      "execution_count": 53,
      "outputs": [
        {
          "output_type": "execute_result",
          "data": {
            "text/plain": [
              "0.7357142857142858"
            ]
          },
          "metadata": {
            "tags": []
          },
          "execution_count": 53
        }
      ]
    },
    {
      "cell_type": "code",
      "metadata": {
        "id": "h1X-Y6M-lFkM",
        "colab_type": "code",
        "colab": {
          "base_uri": "https://localhost:8080/",
          "height": 1000
        },
        "outputId": "5b8152a5-4ff8-44dd-f3cb-de38626cafd2"
      },
      "source": [
        "predicted_proba = reg.predict_proba(x_test)\n",
        "predicted_proba"
      ],
      "execution_count": 54,
      "outputs": [
        {
          "output_type": "execute_result",
          "data": {
            "text/plain": [
              "array([[0.75466347, 0.24533653],\n",
              "       [0.60917591, 0.39082409],\n",
              "       [0.48329093, 0.51670907],\n",
              "       [0.75768232, 0.24231768],\n",
              "       [0.08357741, 0.91642259],\n",
              "       [0.3052464 , 0.6947536 ],\n",
              "       [0.303675  , 0.696325  ],\n",
              "       [0.11636888, 0.88363112],\n",
              "       [0.7400284 , 0.2599716 ],\n",
              "       [0.75596036, 0.24403964],\n",
              "       [0.50609784, 0.49390216],\n",
              "       [0.19501503, 0.80498497],\n",
              "       [0.06248668, 0.93751332],\n",
              "       [0.7055465 , 0.2944535 ],\n",
              "       [0.29675526, 0.70324474],\n",
              "       [0.52028649, 0.47971351],\n",
              "       [0.50551315, 0.49448685],\n",
              "       [0.50843643, 0.49156357],\n",
              "       [0.36713074, 0.63286926],\n",
              "       [0.06422143, 0.93577857],\n",
              "       [0.73822433, 0.26177567],\n",
              "       [0.75768232, 0.24231768],\n",
              "       [0.47994423, 0.52005577],\n",
              "       [0.47760936, 0.52239064],\n",
              "       [0.22619725, 0.77380275],\n",
              "       [0.74047815, 0.25952185],\n",
              "       [0.51148533, 0.48851467],\n",
              "       [0.87702735, 0.12297265],\n",
              "       [0.24005377, 0.75994623],\n",
              "       [0.75768232, 0.24231768],\n",
              "       [0.61140118, 0.38859882],\n",
              "       [0.28761821, 0.71238179],\n",
              "       [0.30178515, 0.69821485],\n",
              "       [0.50492844, 0.49507156],\n",
              "       [0.75768232, 0.24231768],\n",
              "       [0.40227404, 0.59772596],\n",
              "       [0.73957814, 0.26042186],\n",
              "       [0.21977314, 0.78022686],\n",
              "       [0.5601409 , 0.4398591 ],\n",
              "       [0.39358874, 0.60641126],\n",
              "       [0.75811152, 0.24188848],\n",
              "       [0.50286997, 0.49713003],\n",
              "       [0.74137615, 0.25862385],\n",
              "       [0.59310285, 0.40689715],\n",
              "       [0.19240806, 0.80759194],\n",
              "       [0.40110655, 0.59889345],\n",
              "       [0.28055298, 0.71944702],\n",
              "       [0.75682238, 0.24317762],\n",
              "       [0.75323874, 0.24676126],\n",
              "       [0.7585402 , 0.2414598 ],\n",
              "       [0.49819184, 0.50180816],\n",
              "       [0.70700732, 0.29299268],\n",
              "       [0.3052464 , 0.6947536 ],\n",
              "       [0.75540613, 0.24459387],\n",
              "       [0.17966732, 0.82033268],\n",
              "       [0.60806156, 0.39193844],\n",
              "       [0.09400654, 0.90599346],\n",
              "       [0.73557043, 0.26442957],\n",
              "       [0.67849766, 0.32150234],\n",
              "       [0.6779872 , 0.3220128 ],\n",
              "       [0.29497024, 0.70502976],\n",
              "       [0.30376028, 0.69623972],\n",
              "       [0.73420328, 0.26579672],\n",
              "       [0.22415673, 0.77584327],\n",
              "       [0.75458879, 0.24541121],\n",
              "       [0.75509628, 0.24490372],\n",
              "       [0.92448842, 0.07551158],\n",
              "       [0.73912737, 0.26087263],\n",
              "       [0.23823076, 0.76176924],\n",
              "       [0.70359899, 0.29640101],\n",
              "       [0.74227211, 0.25772789],\n",
              "       [0.68460407, 0.31539593],\n",
              "       [0.11591943, 0.88408057],\n",
              "       [0.5612932 , 0.4387068 ],\n",
              "       [0.40452581, 0.59547419],\n",
              "       [0.75768232, 0.24231768],\n",
              "       [0.23962732, 0.76037268],\n",
              "       [0.24968437, 0.75031563],\n",
              "       [0.2996782 , 0.7003218 ],\n",
              "       [0.36495955, 0.63504045],\n",
              "       [0.7409274 , 0.2590726 ],\n",
              "       [0.92558608, 0.07441392],\n",
              "       [0.73145547, 0.26854453],\n",
              "       [0.28379938, 0.71620062],\n",
              "       [0.53265409, 0.46734591],\n",
              "       [0.87778217, 0.12221783],\n",
              "       [0.30326582, 0.69673418],\n",
              "       [0.47760936, 0.52239064],\n",
              "       [0.77739845, 0.22260155],\n",
              "       [0.28761821, 0.71238179],\n",
              "       [0.80291504, 0.19708496],\n",
              "       [0.86732465, 0.13267535],\n",
              "       [0.75379629, 0.24620371],\n",
              "       [0.75423014, 0.24576986],\n",
              "       [0.75596036, 0.24403964],\n",
              "       [0.12930173, 0.87069827],\n",
              "       [0.75379629, 0.24620371],\n",
              "       [0.27679152, 0.72320848],\n",
              "       [0.75497368, 0.24502632],\n",
              "       [0.80068474, 0.19931526],\n",
              "       [0.40339941, 0.59660059],\n",
              "       [0.28761821, 0.71238179],\n",
              "       [0.30213847, 0.69786153],\n",
              "       [0.29254388, 0.70745612],\n",
              "       [0.56071713, 0.43928287],\n",
              "       [0.56474607, 0.43525393],\n",
              "       [0.75466347, 0.24533653],\n",
              "       [0.12930173, 0.87069827],\n",
              "       [0.23738775, 0.76261225],\n",
              "       [0.86759359, 0.13240641],\n",
              "       [0.92590765, 0.07409235],\n",
              "       [0.08788486, 0.91211514],\n",
              "       [0.35675261, 0.64324739],\n",
              "       [0.6130671 , 0.3869329 ],\n",
              "       [0.40396248, 0.59603752],\n",
              "       [0.39582409, 0.60417591],\n",
              "       [0.21937231, 0.78062769],\n",
              "       [0.15389863, 0.84610137],\n",
              "       [0.43937218, 0.56062782],\n",
              "       [0.7386761 , 0.2613239 ],\n",
              "       [0.75552858, 0.24447142],\n",
              "       [0.8760147 , 0.1239853 ],\n",
              "       [0.19538249, 0.80461751],\n",
              "       [0.50462418, 0.49537582],\n",
              "       [0.75596036, 0.24403964],\n",
              "       [0.70457368, 0.29542632],\n",
              "       [0.75811152, 0.24188848],\n",
              "       [0.8667854 , 0.1332146 ],\n",
              "       [0.30277181, 0.69722819],\n",
              "       [0.73822433, 0.26177567],\n",
              "       [0.3930306 , 0.6069694 ],\n",
              "       [0.75811152, 0.24188848],\n",
              "       [0.75682238, 0.24317762],\n",
              "       [0.70115414, 0.29884586],\n",
              "       [0.73374656, 0.26625344],\n",
              "       [0.40847604, 0.59152396],\n",
              "       [0.50492844, 0.49507156],\n",
              "       [0.70311094, 0.29688906],\n",
              "       [0.75497368, 0.24502632],\n",
              "       [0.55956451, 0.44043549]])"
            ]
          },
          "metadata": {
            "tags": []
          },
          "execution_count": 54
        }
      ]
    },
    {
      "cell_type": "code",
      "metadata": {
        "id": "NwkijI1DlFkS",
        "colab_type": "code",
        "colab": {
          "base_uri": "https://localhost:8080/",
          "height": 34
        },
        "outputId": "2343827e-1c1d-419c-8891-8bf6afaecaf7"
      },
      "source": [
        "predicted_proba.shape"
      ],
      "execution_count": 55,
      "outputs": [
        {
          "output_type": "execute_result",
          "data": {
            "text/plain": [
              "(140, 2)"
            ]
          },
          "metadata": {
            "tags": []
          },
          "execution_count": 55
        }
      ]
    },
    {
      "cell_type": "code",
      "metadata": {
        "id": "_mBtP37YlFkW",
        "colab_type": "code",
        "colab": {
          "base_uri": "https://localhost:8080/",
          "height": 499
        },
        "outputId": "ca33540b-ccc4-4cf2-e0ca-4350e457e707"
      },
      "source": [
        "predicted_proba[:,1]"
      ],
      "execution_count": 56,
      "outputs": [
        {
          "output_type": "execute_result",
          "data": {
            "text/plain": [
              "array([0.24533653, 0.39082409, 0.51670907, 0.24231768, 0.91642259,\n",
              "       0.6947536 , 0.696325  , 0.88363112, 0.2599716 , 0.24403964,\n",
              "       0.49390216, 0.80498497, 0.93751332, 0.2944535 , 0.70324474,\n",
              "       0.47971351, 0.49448685, 0.49156357, 0.63286926, 0.93577857,\n",
              "       0.26177567, 0.24231768, 0.52005577, 0.52239064, 0.77380275,\n",
              "       0.25952185, 0.48851467, 0.12297265, 0.75994623, 0.24231768,\n",
              "       0.38859882, 0.71238179, 0.69821485, 0.49507156, 0.24231768,\n",
              "       0.59772596, 0.26042186, 0.78022686, 0.4398591 , 0.60641126,\n",
              "       0.24188848, 0.49713003, 0.25862385, 0.40689715, 0.80759194,\n",
              "       0.59889345, 0.71944702, 0.24317762, 0.24676126, 0.2414598 ,\n",
              "       0.50180816, 0.29299268, 0.6947536 , 0.24459387, 0.82033268,\n",
              "       0.39193844, 0.90599346, 0.26442957, 0.32150234, 0.3220128 ,\n",
              "       0.70502976, 0.69623972, 0.26579672, 0.77584327, 0.24541121,\n",
              "       0.24490372, 0.07551158, 0.26087263, 0.76176924, 0.29640101,\n",
              "       0.25772789, 0.31539593, 0.88408057, 0.4387068 , 0.59547419,\n",
              "       0.24231768, 0.76037268, 0.75031563, 0.7003218 , 0.63504045,\n",
              "       0.2590726 , 0.07441392, 0.26854453, 0.71620062, 0.46734591,\n",
              "       0.12221783, 0.69673418, 0.52239064, 0.22260155, 0.71238179,\n",
              "       0.19708496, 0.13267535, 0.24620371, 0.24576986, 0.24403964,\n",
              "       0.87069827, 0.24620371, 0.72320848, 0.24502632, 0.19931526,\n",
              "       0.59660059, 0.71238179, 0.69786153, 0.70745612, 0.43928287,\n",
              "       0.43525393, 0.24533653, 0.87069827, 0.76261225, 0.13240641,\n",
              "       0.07409235, 0.91211514, 0.64324739, 0.3869329 , 0.59603752,\n",
              "       0.60417591, 0.78062769, 0.84610137, 0.56062782, 0.2613239 ,\n",
              "       0.24447142, 0.1239853 , 0.80461751, 0.49537582, 0.24403964,\n",
              "       0.29542632, 0.24188848, 0.1332146 , 0.69722819, 0.26177567,\n",
              "       0.6069694 , 0.24188848, 0.24317762, 0.29884586, 0.26625344,\n",
              "       0.59152396, 0.49507156, 0.29688906, 0.24502632, 0.44043549])"
            ]
          },
          "metadata": {
            "tags": []
          },
          "execution_count": 56
        }
      ]
    },
    {
      "cell_type": "markdown",
      "metadata": {
        "id": "YSyl01zylFkm",
        "colab_type": "text"
      },
      "source": [
        "## Save the model"
      ]
    },
    {
      "cell_type": "code",
      "metadata": {
        "id": "ZYGCVlY6lFkn",
        "colab_type": "code",
        "colab": {}
      },
      "source": [
        "import pickle"
      ],
      "execution_count": 60,
      "outputs": []
    },
    {
      "cell_type": "code",
      "metadata": {
        "id": "nAoi6YA_lFkt",
        "colab_type": "code",
        "colab": {}
      },
      "source": [
        "with open('model', 'wb') as file:\n",
        "    pickle.dump(reg, file)"
      ],
      "execution_count": 61,
      "outputs": []
    },
    {
      "cell_type": "code",
      "metadata": {
        "id": "bvb9yAydlFk1",
        "colab_type": "code",
        "colab": {}
      },
      "source": [
        "with open('scaler','wb') as file:\n",
        "    pickle.dump(absenteeism_scaler, file)"
      ],
      "execution_count": 62,
      "outputs": []
    }
  ]
}