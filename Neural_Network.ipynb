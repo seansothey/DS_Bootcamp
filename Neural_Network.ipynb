{
  "nbformat": 4,
  "nbformat_minor": 0,
  "metadata": {
    "anaconda-cloud": {},
    "kernelspec": {
      "display_name": "Python 3",
      "language": "python",
      "name": "python3"
    },
    "language_info": {
      "codemirror_mode": {
        "name": "ipython",
        "version": 3
      },
      "file_extension": ".py",
      "mimetype": "text/x-python",
      "name": "python",
      "nbconvert_exporter": "python",
      "pygments_lexer": "ipython3",
      "version": "3.6.2"
    },
    "colab": {
      "name": "Neural_Network.ipynb",
      "provenance": []
    }
  },
  "cells": [
    {
      "cell_type": "markdown",
      "metadata": {
        "id": "lU30i0sXAW7a",
        "colab_type": "text"
      },
      "source": [
        "# Simple Linear Regression "
      ]
    },
    {
      "cell_type": "markdown",
      "metadata": {
        "id": "ctN2cj0TAW7j",
        "colab_type": "text"
      },
      "source": [
        "# Solve the following exercises\n",
        "    1. Change the number of observations to 100,000 and see what happens.\n",
        "    2. Change the number of observations to 1,000,000 and see what happens.\n",
        "    3. Play around with the learning rate. Values like 0.0001, 0.001, 0.1, 1 are all interesting to observe. \n",
        "    4. Change the loss function. L2-norm loss (without dividing by 2) is a good way to start. \n",
        "    5. Тry with the L1-norm loss, given by the sum of the ABSOLUTE value of yj - tj. The L1-norm loss is given by:\n",
        "## $$ \\Sigma_i = |y_i-t_i| $$\n",
        "    6. Create a function f(x,z) = 13*xs + 7*zs - 12. Does the algorithm work in the same way?\n",
        "    \n",
        "    \n",
        "Useful tip: When you change something, don't forget to RERUN all cells. This can be done easily by clicking:\n",
        "Kernel -> Restart & Run All\n",
        "If you don't do that, your algorithm will keep the OLD values of all parameters.\n",
        "\n",
        "You can either use this file for all the exercises, or check the solutions of EACH ONE of them in the separate files we have provided. All other files are solutions of each problem. If you feel confident enough, you can simply change values in this file. Please note that it will be nice, if you return the file to starting position after you have solved a problem, so you can use the lecture as a basis for comparison."
      ]
    },
    {
      "cell_type": "markdown",
      "metadata": {
        "id": "Ili0cFoGAW7p",
        "colab_type": "text"
      },
      "source": [
        "### Import the relevant libraries"
      ]
    },
    {
      "cell_type": "code",
      "metadata": {
        "id": "uh31XMowAW7v",
        "colab_type": "code",
        "colab": {}
      },
      "source": [
        "# We must always import the relevant libraries for our problem at hand. NumPy is a must for this example.\n",
        "import numpy as np\n",
        "\n",
        "# matplotlib and mpl_toolkits are not necessary. We employ them for the sole purpose of visualizing the results.  \n",
        "import matplotlib.pyplot as plt\n",
        "from mpl_toolkits.mplot3d import Axes3D"
      ],
      "execution_count": 1,
      "outputs": []
    },
    {
      "cell_type": "markdown",
      "metadata": {
        "id": "mvOl0ou7AW7_",
        "colab_type": "text"
      },
      "source": [
        "### Generate random input data to train on"
      ]
    },
    {
      "cell_type": "code",
      "metadata": {
        "scrolled": false,
        "id": "I3qckbwNAW8C",
        "colab_type": "code",
        "colab": {
          "base_uri": "https://localhost:8080/",
          "height": 34
        },
        "outputId": "1f50d8b6-f46b-40c3-8e1d-66f125531253"
      },
      "source": [
        "# First, we should declare a variable containing the size of the training set we want to generate.\n",
        "observations = 1000\n",
        "\n",
        "# We will work with two variables as inputs. You can think about them as x1 and x2 in our previous examples.\n",
        "# We have picked x and z, since it is easier to differentiate them.\n",
        "# We generate them randomly, drawing from an uniform distribution. There are 3 arguments of this method (low, high, size).\n",
        "# The size of xs and zs is observations by 1. In this case: 1000 x 1.\n",
        "xs = np.random.uniform(low=-10, high=10, size=(observations,1))\n",
        "zs = np.random.uniform(-10, 10, (observations,1))\n",
        "\n",
        "# Combine the two dimensions of the input into one input matrix. \n",
        "# This is the X matrix from the linear model y = x*w + b.\n",
        "# column_stack is a Numpy method, which combines two vectors into a matrix. Alternatives are stack, dstack, hstack, etc.\n",
        "inputs = np.column_stack((xs,zs))\n",
        "\n",
        "# Check if the dimensions of the inputs are the same as the ones we defined in the linear model lectures. \n",
        "# They should be n x k, where n is the number of observations, and k is the number of variables, so 1000 x 2.\n",
        "print (inputs.shape)"
      ],
      "execution_count": 2,
      "outputs": [
        {
          "output_type": "stream",
          "text": [
            "(1000, 2)\n"
          ],
          "name": "stdout"
        }
      ]
    },
    {
      "cell_type": "markdown",
      "metadata": {
        "id": "w9sH4lOfAW8Q",
        "colab_type": "text"
      },
      "source": [
        "### Generate the targets we will aim at"
      ]
    },
    {
      "cell_type": "code",
      "metadata": {
        "id": "ZikwgIwVAW8S",
        "colab_type": "code",
        "colab": {
          "base_uri": "https://localhost:8080/",
          "height": 34
        },
        "outputId": "e11a1543-4a66-4cc5-e895-f284c1421b11"
      },
      "source": [
        "# We want to \"make up\" a function, use the ML methodology, and see if the algorithm has learned it.\n",
        "# We add a small random noise to the function i.e. f(x,z) = 2x - 3z + 5 + <small noise>\n",
        "noise = np.random.uniform(-1, 1, (observations,1))\n",
        "\n",
        "# Produce the targets according to the f(x,z) = 2x - 3z + 5 + noise definition.\n",
        "# In this way, we are basically saying: the weights should be 2 and -3, while the bias is 5.\n",
        "targets = 2*xs - 3*zs + 5 + noise\n",
        "\n",
        "# Check the shape of the targets just in case. It should be n x m, where m is the number of output variables, so 1000 x 1.\n",
        "print (targets.shape)"
      ],
      "execution_count": 3,
      "outputs": [
        {
          "output_type": "stream",
          "text": [
            "(1000, 1)\n"
          ],
          "name": "stdout"
        }
      ]
    },
    {
      "cell_type": "markdown",
      "metadata": {
        "id": "DZ9Fg9OEAW8a",
        "colab_type": "text"
      },
      "source": [
        "### Plot the training data\n",
        "The point is to see that there is a strong trend that our model should learn to reproduce."
      ]
    },
    {
      "cell_type": "code",
      "metadata": {
        "id": "LHrIcltPAW8b",
        "colab_type": "code",
        "colab": {
          "base_uri": "https://localhost:8080/",
          "height": 248
        },
        "outputId": "d1d1bc4a-72c7-4dc1-a952-442c7293a7c9"
      },
      "source": [
        "# In order to use the 3D plot, the objects should have a certain shape, so we reshape the targets.\n",
        "# The proper method to use is reshape and takes as arguments the dimensions in which we want to fit the object.\n",
        "targets = targets.reshape(observations,)\n",
        "\n",
        "# Plotting according to the conventional matplotlib.pyplot syntax\n",
        "\n",
        "# Declare the figure\n",
        "fig = plt.figure()\n",
        "\n",
        "# A method allowing us to create the 3D plot\n",
        "ax = fig.add_subplot(111, projection='3d')\n",
        "\n",
        "# Choose the axes.\n",
        "ax.plot(xs, zs, targets)\n",
        "\n",
        "# Set labels\n",
        "ax.set_xlabel('xs')\n",
        "ax.set_ylabel('zs')\n",
        "ax.set_zlabel('Targets')\n",
        "\n",
        "# You can fiddle with the azim parameter to plot the data from different angles. Just change the value of azim=100\n",
        "# to azim = 0 ; azim = 200, or whatever. Check and see what happens.\n",
        "ax.view_init(azim=100)\n",
        "\n",
        "# So far we were just describing the plot. This method actually shows the plot. \n",
        "plt.show()\n",
        "\n",
        "# We reshape the targets back to the shape that they were in before plotting.\n",
        "# This reshaping is a side-effect of the 3D plot. Sorry for that.\n",
        "targets = targets.reshape(observations,1)"
      ],
      "execution_count": 4,
      "outputs": [
        {
          "output_type": "display_data",
          "data": {
            "image/png": "[encoded data removed]",
            "text/plain": [
              "<Figure size 432x288 with 1 Axes>"
            ]
          },
          "metadata": {
            "tags": [],
            "needs_background": "light"
          }
        }
      ]
    },
    {
      "cell_type": "markdown",
      "metadata": {
        "id": "1XFM-sZdAW8g",
        "colab_type": "text"
      },
      "source": [
        "### Initialize variables"
      ]
    },
    {
      "cell_type": "code",
      "metadata": {
        "id": "SXu0U2xTAW8h",
        "colab_type": "code",
        "colab": {
          "base_uri": "https://localhost:8080/",
          "height": 69
        },
        "outputId": "db05fd69-689f-41d1-e6c9-71f42df38d04"
      },
      "source": [
        "# We will initialize the weights and biases randomly in some small initial range.\n",
        "# init_range is the variable that will measure that.\n",
        "# You can play around with the initial range, but we don't really encourage you to do so.\n",
        "# High initial ranges may prevent the machine learning algorithm from learning.\n",
        "init_range = 0.1\n",
        "\n",
        "# Weights are of size k x m, where k is the number of input variables and m is the number of output variables\n",
        "# In our case, the weights matrix is 2x1 since there are 2 inputs (x and z) and one output (y)\n",
        "weights = np.random.uniform(low=-init_range, high=init_range, size=(2, 1))\n",
        "\n",
        "# Biases are of size 1 since there is only 1 output. The bias is a scalar.\n",
        "biases = np.random.uniform(low=-init_range, high=init_range, size=1)\n",
        "\n",
        "#Print the weights to get a sense of how they were initialized.\n",
        "print (weights)\n",
        "print (biases)"
      ],
      "execution_count": 5,
      "outputs": [
        {
          "output_type": "stream",
          "text": [
            "[[-0.05476419]\n",
            " [-0.03756765]]\n",
            "[0.05777816]\n"
          ],
          "name": "stdout"
        }
      ]
    },
    {
      "cell_type": "markdown",
      "metadata": {
        "id": "PV3RtcnQAW8n",
        "colab_type": "text"
      },
      "source": [
        "### Set a learning rate"
      ]
    },
    {
      "cell_type": "code",
      "metadata": {
        "id": "N8Bx57wXAW8o",
        "colab_type": "code",
        "colab": {}
      },
      "source": [
        "# Set some small learning rate (denoted eta in the lecture). \n",
        "# 0.02 is going to work quite well for our example. Once again, you can play around with it.\n",
        "# It is HIGHLY recommended that you play around with it.\n",
        "learning_rate = 0.02"
      ],
      "execution_count": 6,
      "outputs": []
    },
    {
      "cell_type": "markdown",
      "metadata": {
        "id": "BBZvwVNUAW8t",
        "colab_type": "text"
      },
      "source": [
        "### Train the model"
      ]
    },
    {
      "cell_type": "code",
      "metadata": {
        "scrolled": true,
        "id": "AME9gy-aAW8u",
        "colab_type": "code",
        "colab": {
          "base_uri": "https://localhost:8080/",
          "height": 1000
        },
        "outputId": "6bb1d65f-2673-4969-d897-d74436e3438c"
      },
      "source": [
        "# We iterate over our training dataset 100 times. That works well with a learning rate of 0.02.\n",
        "# The proper number of iterations is something we will talk about later on, but generally\n",
        "# a lower learning rate would need more iterations, while a higher learning rate would need less iterations\n",
        "# keep in mind that a high learning rate may cause the loss to diverge to infinity, instead of converge to 0.\n",
        "for i in range (100):\n",
        "    \n",
        "    # This is the linear model: y = xw + b equation\n",
        "    outputs = np.dot(inputs,weights) + biases\n",
        "    # The deltas are the differences between the outputs and the targets\n",
        "    # Note that deltas here is a vector 1000 x 1\n",
        "    deltas = outputs - targets\n",
        "        \n",
        "    # We are considering the L2-norm loss, but divided by 2, so it is consistent with the lectures.\n",
        "    # Moreover, we further divide it by the number of observations.\n",
        "    # This is simple rescaling by a constant. We explained that this doesn't change the optimization logic,\n",
        "    # as any function holding the basic property of being lower for better results, and higher for worse results\n",
        "    # can be a loss function.\n",
        "    loss = np.sum(deltas ** 2) / 2 / observations\n",
        "    \n",
        "    # We print the loss function value at each step so we can observe whether it is decreasing as desired.\n",
        "    print (loss)\n",
        "    \n",
        "    # Another small trick is to scale the deltas the same way as the loss function\n",
        "    # In this way our learning rate is independent of the number of samples (observations).\n",
        "    # Again, this doesn't change anything in principle, it simply makes it easier to pick a single learning rate\n",
        "    # that can remain the same if we change the number of training samples (observations).\n",
        "    # You can try solving the problem without rescaling to see how that works for you.\n",
        "    deltas_scaled = deltas / observations\n",
        "    \n",
        "    # Finally, we must apply the gradient descent update rules from the relevant lecture.\n",
        "    # The weights are 2x1, learning rate is 1x1 (scalar), inputs are 1000x2, and deltas_scaled are 1000x1\n",
        "    # We must transpose the inputs so that we get an allowed operation.\n",
        "    weights = weights - learning_rate * np.dot(inputs.T,deltas_scaled)\n",
        "    biases = biases - learning_rate * np.sum(deltas_scaled)\n",
        "    \n",
        "    # The weights are updated in a linear algebraic way (a matrix minus another matrix)\n",
        "    # The biases, however, are just a single number here, so we must transform the deltas into a scalar.\n",
        "    # The two lines are both consistent with the gradient descent methodology. "
      ],
      "execution_count": 7,
      "outputs": [
        {
          "output_type": "stream",
          "text": [
            "228.05385343558754\n",
            "37.15693537372483\n",
            "14.31290794642737\n",
            "11.23695477229523\n",
            "10.502809369696035\n",
            "10.059229824465325\n",
            "9.664014929397485\n",
            "9.288056836450906\n",
            "8.927386930087517\n",
            "8.58102253146114\n",
            "8.248353577074084\n",
            "7.92883350564544\n",
            "7.621942007426928\n",
            "7.327179885953542\n",
            "7.044067739466645\n",
            "6.772145121403366\n",
            "6.5109697844754155\n",
            "6.260116960576566\n",
            "6.019178669853478\n",
            "5.787763057167292\n",
            "5.5654937547902925\n",
            "5.352009270292037\n",
            "5.146962398618396\n",
            "4.95001965740719\n",
            "4.7608607446220415\n",
            "4.579178017622274\n",
            "4.4046759928217645\n",
            "4.237070865122881\n",
            "4.076090046343996\n",
            "3.9214717218898762\n",
            "3.772964424943921\n",
            "3.6303266274897155\n",
            "3.4933263474968075\n",
            "3.361740771631745\n",
            "3.2353558928808663\n",
            "3.1139661624954194\n",
            "2.9973741556929436\n",
            "2.8853902505712847\n",
            "2.777832319712933\n",
            "2.674525433978222\n",
            "2.5753015780055812\n",
            "2.4799993769561532\n",
            "2.388463834058386\n",
            "2.3005460785257177\n",
            "2.216103123437388\n",
            "2.134997633188603\n",
            "2.0570977001318473\n",
            "1.9822766300460521\n",
            "1.9104127360847467\n",
            "1.8413891408680525\n",
            "1.775093586396662\n",
            "1.711418251478639\n",
            "1.6502595763721188\n",
            "1.5915180943587057\n",
            "1.5350982699736604\n",
            "1.4809083436297414\n",
            "1.4288601823820488\n",
            "1.3788691365911245\n",
            "1.3308539022511936\n",
            "1.2847363887596677\n",
            "1.2404415919128207\n",
            "1.1978974719210946\n",
            "1.157034836245654\n",
            "1.1177872270656184\n",
            "1.0800908131929676\n",
            "1.0438842862593192\n",
            "1.009108761005761\n",
            "0.9757076795135462\n",
            "0.943626719219914\n",
            "0.9128137045694311\n",
            "0.883218522157159\n",
            "0.8547930392256503\n",
            "0.8274910253832061\n",
            "0.801268077416094\n",
            "0.7760815470724289\n",
            "0.7518904717002789\n",
            "0.7286555076271825\n",
            "0.7063388661727219\n",
            "0.6849042521900985\n",
            "0.6643168050367436\n",
            "0.6445430418779674\n",
            "0.6255508032314375\n",
            "0.6073092006639115\n",
            "0.5897885665551801\n",
            "0.5729604058474956\n",
            "0.5567973497020258\n",
            "0.5412731109869585\n",
            "0.526362441524863\n",
            "0.512041091029776\n",
            "0.49828576766723265\n",
            "0.48507410017309294\n",
            "0.4723846014695567\n",
            "0.46019663371919745\n",
            "0.44849037476017256\n",
            "0.4372467858680296\n",
            "0.4264475807916659\n",
            "0.4160751960130965\n",
            "0.4061127621826497\n",
            "0.39654407668313973\n",
            "0.38735357727839426\n"
          ],
          "name": "stdout"
        }
      ]
    },
    {
      "cell_type": "markdown",
      "metadata": {
        "id": "biktbZrZAW8y",
        "colab_type": "text"
      },
      "source": [
        "### Print weights and biases and see if we have worked correctly."
      ]
    },
    {
      "cell_type": "code",
      "metadata": {
        "id": "GLOme2oTAW8z",
        "colab_type": "code",
        "colab": {
          "base_uri": "https://localhost:8080/",
          "height": 51
        },
        "outputId": "79cd51dd-50c9-42b8-e8c4-571f0b0d1196"
      },
      "source": [
        "# We print the weights and the biases, so we can see if they have converged to what we wanted.\n",
        "# When declared the targets, following the f(x,z), we knew the weights should be 2 and -3, while the bias: 5.\n",
        "print (weights, biases)\n",
        "\n",
        "# Note that they may be convergING. So more iterations are needed."
      ],
      "execution_count": 8,
      "outputs": [
        {
          "output_type": "stream",
          "text": [
            "[[ 2.0063077 ]\n",
            " [-2.99739371]] [4.34111259]\n"
          ],
          "name": "stdout"
        }
      ]
    },
    {
      "cell_type": "markdown",
      "metadata": {
        "id": "-wHSjl3bAW82",
        "colab_type": "text"
      },
      "source": [
        "### Plot last outputs vs targets\n",
        "Since they are the last ones at the end of the training, they represent the final model accuracy. <br/>\n",
        "The closer this plot is to a 45 degree line, the closer target and output values are."
      ]
    },
    {
      "cell_type": "code",
      "metadata": {
        "id": "6rPGXqPCAW83",
        "colab_type": "code",
        "colab": {
          "base_uri": "https://localhost:8080/",
          "height": 279
        },
        "outputId": "3b8860e3-ba34-491b-c3e1-e1f59df1d391"
      },
      "source": [
        "# We print the outputs and the targets in order to see if they have a linear relationship.\n",
        "# Again, that's not needed. Moreover, in later lectures, that would not even be possible.\n",
        "plt.plot(outputs,targets)\n",
        "plt.xlabel('outputs')\n",
        "plt.ylabel('targets')\n",
        "plt.show()"
      ],
      "execution_count": 9,
      "outputs": [
        {
          "output_type": "display_data",
          "data": {
            "image/png": "[encoded data removed]",
            "text/plain": [
              "<Figure size 432x288 with 1 Axes>"
            ]
          },
          "metadata": {
            "tags": [],
            "needs_background": "light"
          }
        }
      ]
    }
  ]
}